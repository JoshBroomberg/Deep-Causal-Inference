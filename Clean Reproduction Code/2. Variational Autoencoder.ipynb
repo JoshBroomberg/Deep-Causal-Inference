{
 "cells": [
  {
   "cell_type": "code",
   "execution_count": 3,
   "metadata": {},
   "outputs": [],
   "source": [
    "import os\n",
    "import torch\n",
    "import torch.utils.data\n",
    "from torch import nn, optim\n",
    "from torch.autograd import Variable\n",
    "from torch.nn import functional as F\n",
    "from torchvision import datasets, transforms\n",
    "\n",
    "from torch.utils.data.dataset import Dataset\n",
    "from torch.utils.data import DataLoader\n",
    "\n",
    "import numpy as np\n",
    "from time import time\n",
    "\n",
    "CUDA = torch.cuda.is_available()"
   ]
  },
  {
   "cell_type": "markdown",
   "metadata": {},
   "source": [
    "### Load Data"
   ]
  },
  {
   "cell_type": "code",
   "execution_count": 4,
   "metadata": {},
   "outputs": [],
   "source": [
    "RAW_DATA_DIR = \"../Data/Raw/\"\n",
    "PROCESSED_DATA_DIR = \"../Data/Processed/VAE/Z2/\"\n",
    "\n",
    "class CovariateDataset(Dataset):\n",
    "    def __init__(self, file_name_pattern, file_name_args):\n",
    "        self.file_name = file_name_pattern.format(*file_name_args, \"covar\")\n",
    "        self.assignment_file_name = file_name_pattern.format(*file_name_args, \"assignment\")\n",
    "        \n",
    "        self.data = np.loadtxt(RAW_DATA_DIR + self.file_name + \".csv\", delimiter=\",\")[:, 1:] # remove bias\n",
    "        self.assignment_data = np.loadtxt(RAW_DATA_DIR + self.assignment_file_name + \".csv\", delimiter=\",\")\n",
    "        \n",
    "    def __getitem__(self, index):\n",
    "        return (self.data[index].astype(float), 0)\n",
    "\n",
    "    def __len__(self):\n",
    "        return self.data.shape[0]\n",
    "    \n",
    "    def save_processed_data(self, data):\n",
    "        name = PROCESSED_DATA_DIR + self.file_name+\".csv\"\n",
    "        np.savetxt(name, data, delimiter=\",\")"
   ]
  },
  {
   "cell_type": "markdown",
   "metadata": {},
   "source": [
    "### Define Model\n",
    "\n",
    "The code below defines a Variation Autoencoder. The a full, statistically-ground explanation of this design is provided in Section 4 of the paper. The code below is loosely based on example code from the PyTorch library found here: https://github.com/pytorch/examples/blob/master/vae/main.py. This example was extended to allow for both normal and binomial distributions on different dimensions in the output space. The decision to use 3 hidden layers of size 128, 64 and 32 in both the encoder and decoder was larger made through experimentation. Unlike in the Autoencoder, deeper networks here allow fuller representation of the complex functions required to parameterize the $P(X|Z)$ and $Q(Z|X)$ distributions. "
   ]
  },
  {
   "cell_type": "code",
   "execution_count": 5,
   "metadata": {
    "scrolled": true
   },
   "outputs": [],
   "source": [
    "\n",
    "\n",
    "SEED = 1\n",
    "\n",
    "ZDIMS = 2 # latent dimensions\n",
    "\n",
    "# Hidden layers\n",
    "INTERMEDIATE_DIMS = 128\n",
    "INTERMEDIATE_DIMS_2 = 64\n",
    "INTERMEDIATE_DIMS_3 = 32\n",
    "FEATURES = 10\n",
    "DIAG_VAR = True\n",
    "\n",
    "BINARY = [0, 2, 5, 7, 8]\n",
    "NORMAL = [1, 3, 5, 6, 9]\n",
    "\n",
    "torch.manual_seed(SEED)\n",
    "if CUDA:\n",
    "    torch.cuda.manual_seed(SEED)\n",
    "\n",
    "class ModifiedVAE(nn.Module):\n",
    "    def __init__(self):\n",
    "        super(ModifiedVAE, self).__init__()\n",
    "        \n",
    "        self.relu = nn.ReLU()\n",
    "        \n",
    "        # ENCODER LAYERS\n",
    "        self.dense1 = nn.Linear(FEATURES, INTERMEDIATE_DIMS)\n",
    "        self.dense1_2 = nn.Linear(INTERMEDIATE_DIMS, INTERMEDIATE_DIMS_2)\n",
    "        self.dense1_3 = nn.Linear(INTERMEDIATE_DIMS_2, INTERMEDIATE_DIMS_3)\n",
    "        \n",
    "        self.dense2_1 = nn.Linear(INTERMEDIATE_DIMS_3, ZDIMS)  # mu layer\n",
    "        self.dense2_2 = nn.Linear(INTERMEDIATE_DIMS_3, ZDIMS)  # logvariance layer\n",
    "        \n",
    "        # this last layer bottlenecks through ZDIMS connections\n",
    "\n",
    "        # DECODER LAYERS\n",
    "        self.dense3 = nn.Linear(ZDIMS, INTERMEDIATE_DIMS_3)\n",
    "        self.dense3_2 = nn.Linear(INTERMEDIATE_DIMS_3, INTERMEDIATE_DIMS_2)\n",
    "        self.dense3_3 = nn.Linear(INTERMEDIATE_DIMS_2, INTERMEDIATE_DIMS)\n",
    "        \n",
    "        self.dense4 = nn.Linear(INTERMEDIATE_DIMS, len(BINARY))\n",
    "        self.dense5 = nn.Linear(INTERMEDIATE_DIMS, len(NORMAL))\n",
    "        \n",
    "        self.sigmoid = nn.Sigmoid()\n",
    "    \n",
    "    # This function transforms input into \n",
    "    # the parameters for the $Q(Z|X)$ distribution. \n",
    "    # These correspond to v and $\\Sigma$ in Section 4. \n",
    "    # Sigma is represented in log form to improve numerical stability. \n",
    "    def encode(self, x):\n",
    "        h1 = self.relu(self.dense1(x))\n",
    "        h2 = self.relu(self.dense1_2(h1))\n",
    "        h3 = self.relu(self.dense1_3(h2))\n",
    "        \n",
    "        return self.dense2_1(h3), self.dense2_2(h3) #mu, logvar\n",
    "\n",
    "    def reparameterize(self, mu, logvar):\n",
    "        if self.training:\n",
    "            # If we sampled directly from the latent distribution\n",
    "            # we wouldn't be able to backprop the results because\n",
    "            # there is no clear grad on the distribution\n",
    "\n",
    "            # This reparam samples from a unit gaussian and then scales\n",
    "            # by the latent parameters giving a defined route to backprop.\n",
    "\n",
    "            std = logvar.mul(0.5).exp_() \n",
    "\n",
    "            # Sample from a unit gaussian with dimensions matching\n",
    "            # the latent space.\n",
    "            eps = Variable(std.data.new(std.size()).normal_())\n",
    "\n",
    "            return eps.mul(std).add_(mu) # rescale and return\n",
    "        else:\n",
    "            print(\"no sample\")\n",
    "            return mu\n",
    "    \n",
    "    # This code transforms an input in latent space\n",
    "    # into an output in the observed space. A sigmoid\n",
    "    # activation is applied to the binomial covariates\n",
    "    # to create soft conformance to 0/1 while no activation \n",
    "    # is applied to those assumed to be normal.\n",
    "    def decode(self, z):\n",
    "        h4 = self.relu(self.dense3(z))\n",
    "        h5 = self.relu(self.dense3_2(h4))\n",
    "        h6 = self.relu(self.dense3_3(h5))\n",
    "        \n",
    "        binary_mu_out = self.sigmoid(self.dense4(h6))\n",
    "        normal_mu_out = self.dense5(h6)\n",
    "        \n",
    "        return binary_mu_out, normal_mu_out\n",
    "    \n",
    "    # This peforms a complete forward pass through the network.\n",
    "    def forward(self, x):\n",
    "        latent_mu, latent_logvar = self.encode(x.view(-1, FEATURES))\n",
    "        z = self.reparameterize(latent_mu, latent_logvar)\n",
    "        binary_mu_out, normal_mu_out = self.decode(z)\n",
    "        return binary_mu_out, normal_mu_out, latent_mu, latent_logvar\n",
    "\n",
    "# An implementation of the negative ELBO as described in the paper. \n",
    "# Note that cross entropy is used for the binary variables and MSE\n",
    "# for the normal variables. \n",
    "def loss_function(recon_binary_mu, recon_normal_mu, batch_x, mu_latent, logvar_latent):\n",
    "    \n",
    "    # MSE: how good is the reconstruction in terms of\n",
    "    mse_loss = nn.MSELoss(size_average=False)\n",
    "    normal_recon_loss = mse_loss(recon_normal_mu, batch_x[:, NORMAL])\n",
    "    normal_recon_loss /= (batch_x.size()[0])\n",
    "    \n",
    "    # Cross Entropy:\n",
    "    BCE = F.binary_cross_entropy(recon_binary_mu, batch_x[:, BINARY], size_average=False)\n",
    "    BCE /= (batch_x.size()[0])\n",
    "    \n",
    "    # KLD is Kullback–Leibler divergence. Regularize VAE by\n",
    "    # penalizing divergence from the prior\n",
    "\n",
    "    # See Appendix B from VAE paper:\n",
    "    # Kingma and Welling. Auto-Encoding Variational Bayes. ICLR, 2014\n",
    "    # https://arxiv.org/abs/1312.6114\n",
    "    KLD = -0.5 * torch.sum(1 + logvar_latent - mu_latent.pow(2) - logvar_latent.exp())\n",
    "    # Normalise by same number of elements as in reconstruction\n",
    "    KLD /= batch_x.size()[0] * FEATURES\n",
    "\n",
    "### DEBUG\n",
    "#     print(\"RL\", normal_recon_loss.data.cpu().numpy()[0])\n",
    "#     print(\"BCE\", BCE.data.cpu().numpy()[0])\n",
    "#     print(\"KLD\", KLD.data.cpu().numpy()[0])\n",
    "    \n",
    "    return normal_recon_loss + BCE + KLD\n",
    "\n",
    "def train(model, optimizer, epoch, data_loader, log_results=False):\n",
    "    model.train()\n",
    "    train_loss = 0\n",
    "\n",
    "    for batch_idx, (data, _) in enumerate(data_loader):\n",
    "        data = Variable(data)\n",
    "        data = data.float()\n",
    "        if CUDA:\n",
    "            data = data.cuda()\n",
    "        \n",
    "        optimizer.zero_grad()\n",
    "\n",
    "        binary_mu_out, normal_mu_out, mu_latent, logvar_latent = model(data)\n",
    "        \n",
    "        # calculate loss\n",
    "        loss = loss_function(binary_mu_out, normal_mu_out, data, mu_latent, logvar_latent)\n",
    "        train_loss += loss.data[0]\n",
    "        \n",
    "        # Find the gradient and descend\n",
    "        loss.backward()\n",
    "        optimizer.step()\n",
    "        \n",
    "    if log_results:\n",
    "        print('====> Epoch: {} Average loss: {:.8f}'.format(\n",
    "              epoch, train_loss / len(data_loader.dataset)))"
   ]
  },
  {
   "cell_type": "code",
   "execution_count": 7,
   "metadata": {},
   "outputs": [
    {
     "name": "stdout",
     "output_type": "stream",
     "text": [
      "ModifiedVAE(\n",
      "  (relu): ReLU()\n",
      "  (dense1): Linear(in_features=10, out_features=128, bias=True)\n",
      "  (dense1_2): Linear(in_features=128, out_features=64, bias=True)\n",
      "  (dense1_3): Linear(in_features=64, out_features=32, bias=True)\n",
      "  (dense2_1): Linear(in_features=32, out_features=2, bias=True)\n",
      "  (dense2_2): Linear(in_features=32, out_features=2, bias=True)\n",
      "  (dense3): Linear(in_features=2, out_features=32, bias=True)\n",
      "  (dense3_2): Linear(in_features=32, out_features=64, bias=True)\n",
      "  (dense3_3): Linear(in_features=64, out_features=128, bias=True)\n",
      "  (dense4): Linear(in_features=128, out_features=5, bias=True)\n",
      "  (dense5): Linear(in_features=128, out_features=5, bias=True)\n",
      "  (sigmoid): Sigmoid()\n",
      ")\n"
     ]
    }
   ],
   "source": [
    "print(ModifiedVAE())"
   ]
  },
  {
   "cell_type": "markdown",
   "metadata": {},
   "source": [
    "### Define Training\n",
    "\n",
    "The procedure used here and all of the hyperparameters involved were discussed in the Autoencoder section above. The initial learning rate and the annealing schedule were adjusted by experimentation. "
   ]
  },
  {
   "cell_type": "code",
   "execution_count": 18,
   "metadata": {
    "scrolled": true
   },
   "outputs": [],
   "source": [
    "def train_model(model_class, dataset, dataset_number, verbose=True):\n",
    "    model = model_class()\n",
    "    if CUDA:\n",
    "        model = model.cuda()\n",
    "\n",
    "    num_epochs = 3000\n",
    "    batch_size = 1000\n",
    "    learning_rate = 1e-2\n",
    "    lr_sched = False\n",
    "         \n",
    "    optimizer = torch.optim.Adam(model.parameters(), lr=learning_rate)\n",
    "\n",
    "    scheduler = torch.optim.lr_scheduler.MultiStepLR(optimizer, [int(num_epochs/4), int(3*num_epochs/4)], gamma=0.1)\n",
    "\n",
    "    data_loader = DataLoader(dataset, batch_size=batch_size, shuffle=True)\n",
    "    \n",
    "    for epoch in range(1, num_epochs+1):\n",
    "        checkpoint_interval = int(num_epochs/10)\n",
    "        \n",
    "        if lr_sched:\n",
    "            scheduler.step()\n",
    "\n",
    "        log = False\n",
    "        if epoch%checkpoint_interval == 0:\n",
    "            log = True\n",
    "            \n",
    "        train(model, optimizer, epoch, data_loader, log_results=log)\n",
    "    \n",
    "\n",
    "    torch.save(model.state_dict(), \"../Models/VAE_{}.pth\".format(dataset_number))\n",
    "    \n",
    "    # Show reconstruction\n",
    "    model.eval()\n",
    "    print(\"Training state: \", model.training)\n",
    "    \n",
    "    original_data,_ = next(iter(data_loader))\n",
    "    original_data = Variable(original_data)\n",
    "    original_data = original_data.float()\n",
    "    if CUDA:\n",
    "        original_data = original_data.cuda()\n",
    "        \n",
    "    binary_mu_out, normal_mu_out, mu_latent, logvar_latent = model(original_data)\n",
    "    \n",
    "    return model, original_data, binary_mu_out, normal_mu_out, mu_latent, logvar_latent\n",
    "\n",
    "def encode_data(model, dataset):\n",
    "    all_data = torch.from_numpy(dataset.data)\n",
    "    all_data = Variable(all_data)\n",
    "    all_data = all_data.float()\n",
    "    \n",
    "    if CUDA:\n",
    "        all_data = all_data.cuda()\n",
    "    \n",
    "    model.eval()\n",
    "    latent_mu, latent_var = model.encode(all_data)\n",
    "    \n",
    "    if CUDA:\n",
    "        latent_mu = latent_mu.cpu()\n",
    "        latent_var = latent_var.cpu()\n",
    "        \n",
    "    data = np.hstack([latent_mu.data.numpy(), latent_var.data.numpy()])\n",
    "    dataset.save_processed_data(data)"
   ]
  },
  {
   "cell_type": "code",
   "execution_count": 15,
   "metadata": {
    "scrolled": true
   },
   "outputs": [
    {
     "name": "stdout",
     "output_type": "stream",
     "text": [
      "====> Epoch: 1000 Average loss: 0.00277041\n",
      "====> Epoch: 2000 Average loss: 0.00207642\n",
      "====> Epoch: 3000 Average loss: 0.00367876\n",
      "====> Epoch: 4000 Average loss: 0.00173663\n",
      "====> Epoch: 5000 Average loss: 0.00233836\n",
      "====> Epoch: 6000 Average loss: 0.00162026\n",
      "====> Epoch: 7000 Average loss: 0.00157601\n",
      "====> Epoch: 8000 Average loss: 0.00175528\n",
      "====> Epoch: 9000 Average loss: 0.00206262\n",
      "====> Epoch: 10000 Average loss: 0.00158404\n",
      "Training state:  False\n",
      "no sample\n"
     ]
    }
   ],
   "source": [
    "dataset = CovariateDataset(\"n_{}_model_{}_v_{}_{}_data\", [1000, \"A_add_lin\", 0])\n",
    "trained_model, original_data, binary_mu_out, normal_mu_out, mu_latent, logvar_latent = \\\n",
    "    train_model(ModifiedVAE, dataset, 1,verbose=True)\n",
    "\n",
    "encode_data(trained_model, dataset)"
   ]
  },
  {
   "cell_type": "markdown",
   "metadata": {},
   "source": [
    "### Explore Reconstructions\n",
    "\n",
    "The reconstructions below look pretty accurate to the naked eye. We observe very little distinction in the latent space between treatment and control observations. This is to be expected given the nature of the data generation process used in the Monte Carlo simulations. "
   ]
  },
  {
   "cell_type": "code",
   "execution_count": 137,
   "metadata": {},
   "outputs": [
    {
     "name": "stdout",
     "output_type": "stream",
     "text": [
      "Orginal: [0.0, -1.0, 0.0, -2.0, 0.62, 1.0, 0.13, 0.0, 1.0, -0.27]\n",
      "Mu out: [0.0, -1.01, 0.0, -1.97, 0.0, 0.85, 0.63, 0.0, 1.0, 0.12]\n",
      "Mu Latent: [1.04, 0.69]\n",
      "Std latent: [1.0403999, 1.0403999]\n",
      "\n",
      "Orginal: [1.0, 1.28, 0.0, 0.0, -1.12, 1.0, 1.71, 1.0, 0.0, 0.57]\n",
      "Mu out: [1.0, 1.11, 0.0, 0.37, 0.0, 1.15, 1.26, 1.0, 0.0, 0.28]\n",
      "Mu Latent: [-1.57, -2.28]\n",
      "Std latent: [1.0403999, 1.0816]\n",
      "\n",
      "Orginal: [1.0, 0.95, 0.0, 0.65, 0.16, 0.0, 1.24, 1.0, 1.0, 0.01]\n",
      "Mu out: [1.0, 0.95, 0.01, 0.52, 0.0, -0.07, 0.37, 1.0, 1.0, -0.62]\n",
      "Mu Latent: [0.43, -1.49]\n",
      "Std latent: [1.0201, 1.0609]\n",
      "\n",
      "Orginal: [0.0, -0.09, 1.0, -0.83, -0.83, 0.0, 1.26, 0.0, 1.0, 0.41]\n",
      "Mu out: [0.0, 0.03, 1.0, -0.91, 0.0, 0.11, 1.04, 0.0, 1.0, 0.53]\n",
      "Mu Latent: [0.65, 0.61]\n",
      "Std latent: [1.0201, 1.0201]\n",
      "\n",
      "Orginal: [1.0, -0.85, 1.0, 0.08, 0.72, 0.0, 0.13, 0.0, 1.0, -1.81]\n",
      "Mu out: [1.0, -0.2, 1.0, 0.43, 0.0, 0.19, 0.72, 0.0, 1.0, -2.12]\n",
      "Mu Latent: [0.24, -0.2]\n",
      "Std latent: [1.0201, 1.0201]\n",
      "\n"
     ]
    }
   ],
   "source": [
    "mu_out = torch.Tensor(1000, 10)\n",
    "\n",
    "for index in BINARY:\n",
    "    mu_out[:, index] = binary_mu_out[:, BINARY.index(index)].data.cpu()\n",
    "    \n",
    "for index in NORMAL:\n",
    "    mu_out[:, index] = normal_mu_out[:, NORMAL.index(index)].data.cpu()\n",
    "    \n",
    "for i in np.random.choice(list(range(1000)), size=5, ):\n",
    "    print(\"Orginal:\", list(np.round(original_data[i].data.cpu().numpy(), 2)))\n",
    "    print(\"Mu out:\", list(np.round(mu_out[i].numpy(), 2)))\n",
    "    print(\"Mu Latent:\", list(np.round(mu_latent[i].data.cpu().numpy(), 2)))\n",
    "    print(\"Std latent:\", list(np.round(np.exp(logvar_latent[i].mul(0.5).exp().data.cpu().numpy()), 2)**2))\n",
    "    print()"
   ]
  },
  {
   "cell_type": "code",
   "execution_count": 138,
   "metadata": {},
   "outputs": [
    {
     "data": {
      "image/png": "[encoded data removed]",
      "text/plain": [
       "<matplotlib.figure.Figure at 0x116843d30>"
      ]
     },
     "metadata": {},
     "output_type": "display_data"
    }
   ],
   "source": [
    "x = mu_latent[:, 0].data.cpu().numpy()\n",
    "y = mu_latent[:, 1].data.cpu().numpy()\n",
    "\n",
    "x_std = list(np.round(np.exp(logvar_latent[:, 0].mul(0.5).exp().data.cpu().numpy()), 2)**2)\n",
    "y_std = list(np.round(np.exp(logvar_latent[:, 1].mul(0.5).exp().data.cpu().numpy()), 2)**2)\n",
    "\n",
    "plt.scatter(x, y, c=dataset.assignment_data)\n",
    "# plt.errorbar(x[:10], y[:10], yerr=y_std[:10], xerr=x_std[:10])\n",
    "plt.show()\n"
   ]
  },
  {
   "cell_type": "markdown",
   "metadata": {},
   "source": [
    "### Process Datasets\n",
    "\n",
    "As above, this code trains a VAE for persisted datasets and saves the encoded data to disk. "
   ]
  },
  {
   "cell_type": "code",
   "execution_count": null,
   "metadata": {
    "scrolled": true
   },
   "outputs": [],
   "source": [
    "assignment_model_names = ['A_add_lin', 'B_add_mild_nlin', 'C_add_mod_nlin', 'D_mild_nadd_lin',\n",
    "                     'E_mild_nadd_mild_nlin', 'F_mod_nadd_lin', 'G_mod_nadd_mod_nlin']\n",
    "\n",
    "for dataset_number in range(0, 200):\n",
    "    print(\"Starting run for Dataset {}\".format(dataset_number))\n",
    "    \n",
    "    for model_name in assignment_model_names:\n",
    "        print(\"-- Running for model name: \", model_name)\n",
    "        \n",
    "        start = time()\n",
    "\n",
    "        dataset = CovariateDataset(\"n_{}_model_{}_v_{}_covar_data\", [1000, model_name, dataset_number])\n",
    "\n",
    "        trained_model, original_data, binary_mu_out, normal_mu_out, mu_latent, logvar_latent = \\\n",
    "            train_model(ModifiedVAE, dataset, dataset_number,verbose=True)\n",
    "\n",
    "        encode_data(trained_model, dataset)\n",
    "\n",
    "        print(\"---- Done in \", time() - start, \" seconds\\n\")\n",
    "                \n",
    "    print(\"================\\n\\n\")"
   ]
  },
  {
   "cell_type": "code",
   "execution_count": null,
   "metadata": {
    "scrolled": true
   },
   "outputs": [],
   "source": [
    "models_to_rerun = [('A_add_lin', 12, 'sparsity'), ('G_mod_nadd_mod_nlin', 40, 'sparsity')]\n",
    "\n",
    "for model_name, dataset_number, loss_type in models_to_rerun:\n",
    "    dataset = CovariateDataset(\"n_{}_model_{}_v_{}_covar_data\", [1000, model_name, dataset_number])\n",
    "    trained_model, final_loss = train_model(\n",
    "                                        autoencoder,\n",
    "                                        dataset,\n",
    "                                        loss=loss_type,\n",
    "                                        verbose=True)\n",
    "    encode_data(trained_model, dataset, loss=loss_type)"
   ]
  }
 ],
 "metadata": {
  "kernelspec": {
   "display_name": "Python 3",
   "language": "python",
   "name": "python3"
  },
  "language_info": {
   "codemirror_mode": {
    "name": "ipython",
    "version": 3
   },
   "file_extension": ".py",
   "mimetype": "text/x-python",
   "name": "python",
   "nbconvert_exporter": "python",
   "pygments_lexer": "ipython3",
   "version": "3.6.5"
  },
  "varInspector": {
   "cols": {
    "lenName": 16,
    "lenType": 16,
    "lenVar": 40
   },
   "kernels_config": {
    "python": {
     "delete_cmd_postfix": "",
     "delete_cmd_prefix": "del ",
     "library": "var_list.py",
     "varRefreshCmd": "print(var_dic_list())"
    },
    "r": {
     "delete_cmd_postfix": ") ",
     "delete_cmd_prefix": "rm(",
     "library": "var_list.r",
     "varRefreshCmd": "cat(var_dic_list()) "
    }
   },
   "types_to_exclude": [
    "module",
    "function",
    "builtin_function_or_method",
    "instance",
    "_Feature"
   ],
   "window_display": false
  }
 },
 "nbformat": 4,
 "nbformat_minor": 2
}

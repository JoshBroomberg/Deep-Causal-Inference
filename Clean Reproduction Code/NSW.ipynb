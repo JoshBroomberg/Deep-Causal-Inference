{
 "cells": [
  {
   "cell_type": "code",
   "execution_count": 2,
   "metadata": {},
   "outputs": [],
   "source": [
    "import numpy as np\n",
    "import rpy2\n",
    "import rpy2.robjects as robjects\n",
    "import pickle\n",
    "from time import time\n",
    "import os\n",
    "\n",
    "# RPY2 is used an interconnect between Python and R. It allows\n",
    "# my to run R code from python which makes this experimentation\n",
    "# process smoother.\n",
    "from rpy2.robjects import IntVector, FloatVector, Formula\n",
    "from rpy2.robjects.packages import importr\n",
    "from rpy2.robjects import numpy2ri\n",
    "numpy2ri.activate()\n",
    "\n",
    "stats = importr('stats') # standard regression package\n",
    "matching = importr('Matching') # GenMatch package\n",
    "snow = importr('snow') # cluster manager"
   ]
  },
  {
   "cell_type": "markdown",
   "metadata": {},
   "source": [
    "## 1. Define an Experimental Framework\n",
    "\n",
    "### A. Cluster Compute\n",
    "\n",
    "See the simulations file for details on this cluster compute code"
   ]
  },
  {
   "cell_type": "code",
   "execution_count": 3,
   "metadata": {},
   "outputs": [],
   "source": [
    "AWS_MASTER_DNS=\"ip-172-31-42-147.ec2.internal\"\n",
    "AWS_SLAVE_1 = \"ubuntu@ip-172-31-43-193.ec2.internal\"\n",
    "AWS_SLAVE_2 = \"ubuntu@ip-172-31-81-244.ec2.internal\"\n",
    "AWS_MASTER_PORT_RANGE = list(range(11305, 11340))\n",
    "\n",
    "class ClusterProvider(object):\n",
    "    def __init__(self, n_nodes=8, remote_hosts=None, ports=None):\n",
    "        if remote_hosts is None:\n",
    "            self.cl = snow.makeSOCKcluster([\"localhost\"]*n_nodes)\n",
    "        else:\n",
    "            # Set the acceptable ports for connection\n",
    "            # from the slaves\n",
    "            if not ports:\n",
    "                ports = AWS_MASTER_PORT_RANGE\n",
    "            \n",
    "            # Construct the connection string\n",
    "            addresses = []\n",
    "            for remote_host, n_nodes in remote_hosts:\n",
    "                addresses+=[remote_host]*n_nodes\n",
    "                \n",
    "            self.cl = snow.makeSOCKcluster(addresses, rscript=\"Rscript\", manual=False, snowlib=\"/usr/local/lib/R/site-library\",\n",
    "                                           port=IntVector(ports), master=AWS_MASTER_DNS, outfile=\"/dev/stdout\", timeout=10)\n",
    "    \n",
    "    def get_cluster(self):\n",
    "        return self.cl\n",
    "    \n",
    "    def kill_cluster(self):\n",
    "        snow.stopCluster(self.cl)"
   ]
  },
  {
   "cell_type": "code",
   "execution_count": 73,
   "metadata": {},
   "outputs": [],
   "source": [
    "# Local cluster\n",
    "cluster_provider = ClusterProvider(n_nodes=8)"
   ]
  },
  {
   "cell_type": "code",
   "execution_count": 11,
   "metadata": {},
   "outputs": [],
   "source": [
    "# Remote cluster\n",
    "# cluster_provider = ClusterProvider(remote_hosts=[(AWS_SLAVE_1, 8)],\n",
    "#                                     ports = list(range(11305, 11314)))"
   ]
  },
  {
   "cell_type": "code",
   "execution_count": 72,
   "metadata": {},
   "outputs": [],
   "source": [
    "# Run this with True to kill the cluster\n",
    "kill = True # termination protection\n",
    "if kill:\n",
    "    cluster_provider.kill_cluster()"
   ]
  },
  {
   "cell_type": "markdown",
   "metadata": {},
   "source": [
    "### B. Flexible Causal Inference Methods"
   ]
  },
  {
   "cell_type": "markdown",
   "metadata": {},
   "source": [
    "#### Estimators\n",
    "\n",
    "In this file, we copy across the GenMatch and Logistic Propensity score methods implemented in the simulations file. See the Simulations notebook for details on these functions"
   ]
  },
  {
   "cell_type": "code",
   "execution_count": 6,
   "metadata": {},
   "outputs": [],
   "source": [
    "# Helper function which runs logistic regression in R\n",
    "# to determine propensity scores for a dataset. This is used\n",
    "# in the propensity score matching method and in GenMatch\n",
    "def get_propensity_scores(assignments, covariate_data):\n",
    "    # Setup\n",
    "    y = IntVector(assignments)\n",
    "    fmla = Formula('y ~ X')\n",
    "    env = fmla.environment\n",
    "    \n",
    "    # Run propensiy regression\n",
    "    env['X'] = covariate_data\n",
    "    env['y'] = y\n",
    "    fit = stats.glm(fmla, family=\"binomial\")\n",
    "    \n",
    "    # DEBUG: fit.rx(\"coefficients\")\n",
    "    return fit.rx2(\"fitted.values\")"
   ]
  },
  {
   "cell_type": "code",
   "execution_count": 93,
   "metadata": {},
   "outputs": [],
   "source": [
    "# 1. Logisic Regression Propensity Matching\n",
    "def logistic_prop_matching_est(outcomes, assignments, covariate_data, *args, **kwargs):\n",
    "    global gm_warnings\n",
    "    logistic_propensity_scores = get_propensity_scores(assignments, covariate_data)\n",
    "    \n",
    "    # Use prop scores from the neural network regression\n",
    "    # if supplied\n",
    "    nn_p_scores = kwargs.get(\"nn_p_scores\", None)\n",
    "    if nn_p_scores is not None:\n",
    "        if gm_warnings:\n",
    "            print(\"Using p-scores from neural net\")\n",
    "        propensity_scores = nn_p_scores\n",
    "    else:\n",
    "        propensity_scores = logistic_propensity_scores\n",
    "    \n",
    "    # Run matching on prop scores\n",
    "    match_out = matching.Match(\n",
    "        Y=FloatVector(outcomes),\n",
    "        Tr=IntVector(assignments),\n",
    "        X=propensity_scores,\n",
    "        replace=True)\n",
    "    \n",
    "    gm_warnings = False # only warn once\n",
    "    return (np.array(match_out.rx2(\"est\").rx(1,1))[0], None)"
   ]
  },
  {
   "cell_type": "code",
   "execution_count": 105,
   "metadata": {},
   "outputs": [],
   "source": [
    "# 2. GenMatch Matching\n",
    "def genmatch_est(outcomes, assignments, covariate_data, *args, **kwargs):\n",
    "    \n",
    "    # Get the singleton cluster\n",
    "    cl = cluster_provider.get_cluster()\n",
    "    \n",
    "    # Flag on whethert or not to use propensity scores\n",
    "    # in GenMatch\n",
    "    if kwargs.get(\"genmatch_with_prop_scores\", True):\n",
    "        print(\"Genmatch running with p scores\")\n",
    "        \n",
    "        # Parameter to allow prop scores to\n",
    "        # be derived from custom data\n",
    "        propensity_vars = kwargs.get(\"propensity_vars\", None)\n",
    "        if propensity_vars is None:\n",
    "            print(\"Finding propensity score on matching vars\")\n",
    "            propensity_vars = covariate_data\n",
    "        else:\n",
    "            print(\"Finding propensity scores with custom vars\")\n",
    "\n",
    "        logistic_p_scores = np.array(get_propensity_scores(assignments, propensity_vars))\n",
    "            \n",
    "        nn_p_scores = kwargs.get(\"nn_p_scores\", None)\n",
    "        \n",
    "        # Use either the prop scores from the neural or the logistic regression\n",
    "        # or both!\n",
    "        if (nn_p_scores is not None) and kwargs.get(\"nn_p_scores_with_logistic\", False):\n",
    "            print(\"Using neural net and logistic p scores\")\n",
    "            matching_data = np.hstack([covariate_data, nn_p_scores.reshape(-1, 1),\n",
    "                                       logistic_p_scores.reshape(-1, 1)])\n",
    "            \n",
    "        elif (nn_p_scores is not None):\n",
    "            print(\"Using neural net  p scores\")\n",
    "            matching_data = np.hstack([covariate_data, nn_p_scores.reshape(-1, 1)])\n",
    "        else:\n",
    "            print(\"Using logistic p scores\")\n",
    "            matching_data = np.hstack([covariate_data, logistic_p_scores.reshape(-1, 1)])\n",
    "             \n",
    "    else:\n",
    "        print(\"Not using prop scores\")\n",
    "        matching_data = covariate_data\n",
    "    \n",
    "    # Allow evaluation of balance on custom vars\n",
    "    balance_vars = kwargs.get(\"balance_vars\", None)\n",
    "    if balance_vars is None:\n",
    "        print(\"Evaluating balance on matching covars\")\n",
    "        balance_vars = covariate_data\n",
    "    else:\n",
    "        print(\"Evaluating balance on custom vars\")\n",
    "    \n",
    "    # Run GenMatch\n",
    "    print(\"Matching data shape:\", matching_data.shape)\n",
    "    print(\"Balance vars shape:\", balance_vars.shape)\n",
    "    \n",
    "    start = time()\n",
    "    gen_out = matching.GenMatch(\n",
    "        Tr=IntVector(assignments),\n",
    "        X=matching_data,\n",
    "        BalanceMatrix=balance_vars,\n",
    "        wait_generations=5,\n",
    "        pop_size=1000,\n",
    "        print_level=0,\n",
    "        cluster=cl)\n",
    "    \n",
    "    print(\"GenMatch Time: \", time() - start)\n",
    "    \n",
    "    match_out = matching.Match(\n",
    "        Y=FloatVector(outcomes),\n",
    "        Tr=IntVector(assignments),\n",
    "        X=matching_data,\n",
    "        replace=True,\n",
    "        Weight_matrix=gen_out)\n",
    "    \n",
    "    return np.array(match_out.rx2(\"est\").rx(1,1))[0], \\\n",
    "            np.array(gen_out.rx2(\"value\")), \\\n",
    "            np.diag(np.array(gen_out.rx2(\"Weight.matrix\")))"
   ]
  },
  {
   "cell_type": "code",
   "execution_count": 9,
   "metadata": {},
   "outputs": [],
   "source": [
    "# DEBUG\n",
    "# est = logistic_prop_matching_est(assignments, X[:, 1:]) # exclude the bias term\n",
    "# np.array(est)"
   ]
  },
  {
   "cell_type": "code",
   "execution_count": 10,
   "metadata": {},
   "outputs": [],
   "source": [
    "# DEBUG\n",
    "# est = genmatch_est(assignments, X[:, 1:]) # exclude the bias term\n",
    "# np.array(est)"
   ]
  },
  {
   "cell_type": "markdown",
   "metadata": {},
   "source": [
    "### C. Data Interconnect\n",
    "\n",
    "CSV files are used to pass information between this file and the Neural Network files. The code below defines helper functions which save data generated in this file to CSVs for neural net training and  functions which read in the processed data which results from the training. "
   ]
  },
  {
   "cell_type": "code",
   "execution_count": 16,
   "metadata": {},
   "outputs": [],
   "source": [
    "RAW_DATA_DIR = \"../Data/NSW/Raw\"\n",
    "PROCESSED_DATA_DIR = \"../Data/NSW/Processed/\"\n",
    "VAE = \"VAE/\"\n",
    "REG = \"Regression/\""
   ]
  },
  {
   "cell_type": "code",
   "execution_count": 110,
   "metadata": {},
   "outputs": [],
   "source": [
    "# Create assignment, outcome and covar data files based on\n",
    "# the data available at http://users.nber.org/~rdehejia/data/nswdata2.html\n",
    "def process_raw_nsw_files():\n",
    "    treated = np.loadtxt(RAW_DATA_DIR + \"/nswre74_treated.txt\", delimiter=\"  \", dtype=str)[:, 1:].astype(float)\n",
    "    control = np.loadtxt(RAW_DATA_DIR + \"/nswre74_control.txt\", delimiter=\"  \", dtype=str)[:, 1:].astype(float)\n",
    "    cps_control = np.loadtxt(RAW_DATA_DIR + \"/cps_controls.txt\", delimiter=\"  \", dtype=str)[:, 1:].astype(float)\n",
    "\n",
    "    experimental_data = np.vstack([treated, control])\n",
    "    experimental_assignments = experimental_data[:, 0]\n",
    "    experimental_outcomes = experimental_data[:, 9]\n",
    "    experimental_covars = experimental_data[:, 1:9]\n",
    "\n",
    "    exp_effect = np.mean(experimental_outcomes[experimental_assignments==1]) - \\\n",
    "        np.mean(experimental_outcomes[experimental_assignments==0])\n",
    "    print(\"Exp treat effect:\", exp_effect)\n",
    "    assert(int(exp_effect) == 1794)\n",
    "    \n",
    "    np.savetxt(RAW_DATA_DIR + \"nsw74_experiment_assignments.csv\", experimental_assignments, delimiter=\",\")\n",
    "    np.savetxt(RAW_DATA_DIR + \"nsw74_experiment_outcomes.csv\", experimental_outcomes, delimiter=\",\")\n",
    "    np.savetxt(RAW_DATA_DIR + \"nsw74_experiment_covars.csv\", experimental_covars, delimiter=\",\")\n",
    "    \n",
    "    \n",
    "    observational_data = np.vstack([treated, cps_control])\n",
    "    observational_assignments = observational_data[:, 0]\n",
    "    observational_outcomes = observational_data[:, 9]\n",
    "    observational_covars = observational_data[:, 1:9]\n",
    "    \n",
    "    obs_effect = np.mean(observational_outcomes[observational_assignments==1]) - \\\n",
    "        np.mean(observational_outcomes[observational_assignments==0])\n",
    "    print(\"Obs treat effect:\", obs_effect)\n",
    "    \n",
    "    np.savetxt(RAW_DATA_DIR + \"nsw74_all_assignments.csv\", observational_assignments, delimiter=\",\")\n",
    "    np.savetxt(RAW_DATA_DIR + \"nsw74_all_outcomes.csv\", observational_outcomes, delimiter=\",\")\n",
    "    np.savetxt(RAW_DATA_DIR + \"nsw74_all_covars.csv\", observational_covars, delimiter=\",\")\n",
    "    \n",
    "    return exp_effect\n",
    "\n",
    "# Retrieve processed and unprocessed data from files in order to run experiments. \n",
    "def get_data_from_file(loss_type=None, nn_p_regression=False, original_mode=False):\n",
    "    \n",
    "    original_covariates = np.loadtxt(RAW_DATA_DIR + \"nsw74_all_covars.csv\", delimiter=\",\")\n",
    "    outcomes = np.loadtxt(RAW_DATA_DIR + \"nsw74_all_outcomes.csv\", delimiter=\",\")\n",
    "    assignments = np.loadtxt(RAW_DATA_DIR + \"nsw74_all_assignments.csv\", delimiter=\",\")\n",
    "    \n",
    "    extra_data = {}\n",
    "    if not (loss_type or nn_p_regression or original_mode):\n",
    "        raise Exception(\"Invalid config. Need loss type, p regression, or original mode option\")\n",
    "    \n",
    "    if not original_mode:\n",
    "        if loss_type:\n",
    "            if loss_type in [\"reconstruction\", \"sparsity\"]:\n",
    "                covariate_file_name = PROCESSED_DATA_DIR + \"nsw74_all_covars_{}.csv\".format(loss_type)\n",
    "                covariates = np.loadtxt(covariate_file_name, delimiter=\",\")\n",
    "\n",
    "            elif loss_type in [\"vae\"]:\n",
    "                covariate_file_name = PROCESSED_DATA_DIR + VAE + \"nsw74_all_covars.csv\"\n",
    "                covariates_with_std = np.loadtxt(covariate_file_name, delimiter=\",\")\n",
    "\n",
    "                # Split means and covariance\n",
    "                column_count = covariates_with_std.shape[1]\n",
    "                covar_marker = int(column_count/2)\n",
    "\n",
    "                covariates = covariates_with_std[:, :covar_marker]\n",
    "                extra_data[\"covariate_covariance\"] = covariates_with_std[:, covar_marker:]\n",
    "\n",
    "            if not nn_p_regression:\n",
    "                # If we aren't accessing NN prop scores, return now.\n",
    "                return assignments, outcomes, covariates, original_covariates, extra_data\n",
    "\n",
    "        if nn_p_regression:\n",
    "            reg_file_name = PROCESSED_DATA_DIR + REG + \"nsw74_all_covars.csv\"\n",
    "            regression_prop_scores = np.loadtxt(reg_file_name, delimiter=\",\")\n",
    "\n",
    "            extra_data[\"nn_p_scores\"] = regression_prop_scores\n",
    "\n",
    "            if loss_type:\n",
    "                return assignments, outcomes, covariates, original_covariates, extra_data\n",
    "    \n",
    "    # Original data path\n",
    "    return assignments, outcomes, original_covariates, extra_data"
   ]
  },
  {
   "cell_type": "code",
   "execution_count": 111,
   "metadata": {},
   "outputs": [
    {
     "name": "stdout",
     "output_type": "stream",
     "text": [
      "Exp treat effect: 1794.342404270271\n",
      "Obs treat effect: -8497.516142636992\n"
     ]
    }
   ],
   "source": [
    "# Write data files for 1000 runs all models\n",
    "# Careful with this, it writes ~3GB of data. \n",
    "process_files = True\n",
    "if process_files:\n",
    "    nsw_effect = process_raw_nsw_files()"
   ]
  },
  {
   "cell_type": "code",
   "execution_count": 112,
   "metadata": {},
   "outputs": [
    {
     "name": "stdout",
     "output_type": "stream",
     "text": [
      "(445, 4)\n"
     ]
    },
    {
     "data": {
      "text/plain": [
       "array([[-1.75889225e+01,  8.37841892e+00, -4.42144279e+01,\n",
       "         1.55335531e+01],\n",
       "       [-9.71539879e+00,  4.70030975e+00, -2.46371212e+01,\n",
       "         9.08783340e+00],\n",
       "       [-1.19481726e+01,  7.95542097e+00, -3.31328430e+01,\n",
       "         1.31192455e+01],\n",
       "       ...,\n",
       "       [-1.98494873e+03, -7.48577148e+03,  9.15058887e+03,\n",
       "         4.77715430e+03],\n",
       "       [ 6.01781201e+03, -1.59553242e+04,  1.08096357e+04,\n",
       "         2.18314185e+03],\n",
       "       [ 4.02309717e+03, -1.76349434e+04,  1.40734307e+04,\n",
       "         4.13518945e+03]])"
      ]
     },
     "execution_count": 112,
     "metadata": {},
     "output_type": "execute_result"
    }
   ],
   "source": [
    "assignments, outcomes, covariates, original_covariates, extra_data = \\\n",
    "get_data_from_file(loss_type=\"reconstruction\")\n",
    "print(covariates.shape)\n",
    "covariates"
   ]
  },
  {
   "cell_type": "markdown",
   "metadata": {},
   "source": [
    "Utilities to store and retrive pickled results dictionaries. This allows us to persist and sync results across different machines/processes."
   ]
  },
  {
   "cell_type": "code",
   "execution_count": 27,
   "metadata": {},
   "outputs": [],
   "source": [
    "def store_results_dict(results, name):\n",
    "    pickle.dump(results, open(\"../Results/NSW/{}.p\".format(name), \"wb\" ))\n",
    "    \n",
    "def retrieve_results_dict(name):\n",
    "    try:\n",
    "        return pickle.load(open( \"../Results/NSW/{}.p\".format(name), \"rb\" ))\n",
    "    except Exception as e:\n",
    "        return None"
   ]
  },
  {
   "cell_type": "markdown",
   "metadata": {},
   "source": [
    "### D. Experiment Runner Code\n",
    "\n",
    "This code is largely a duplication of the the code in the Simulations file, but simplified for a single run on the NSW dataset."
   ]
  },
  {
   "cell_type": "markdown",
   "metadata": {},
   "source": [
    "#### Single Simulation"
   ]
  },
  {
   "cell_type": "code",
   "execution_count": 28,
   "metadata": {},
   "outputs": [],
   "source": [
    "# Wrapper function for all three of the matching methods above. This allows the matching function\n",
    "# to be passed into the experiment running code without concern over the method API.\n",
    "def get_estimate(outcomes, assignments, covar_data, method, *args, **kwargs):\n",
    "    return method(outcomes, assignments, covar_data, *args, **kwargs)"
   ]
  },
  {
   "cell_type": "code",
   "execution_count": 106,
   "metadata": {},
   "outputs": [],
   "source": [
    "def run_simulation(estimator=logistic_prop_matching_est,\n",
    "                   store_name=None,\n",
    "                   overwrite=False,\n",
    "                   verbose=True,\n",
    "                   *args, **kwargs):\n",
    "    \n",
    "    global gm_warnings\n",
    "    gm_warnings = True\n",
    "    \n",
    "    result_data = None\n",
    "    \n",
    "    if store_name:\n",
    "        result_data = retrieve_results_dict(store_name)\n",
    "    \n",
    "    if overwrite or (not result_data):\n",
    "        print(\"No valid, existant results found. Beggining trial.\\n\")\n",
    "    \n",
    "        # Prepare config for matching estimators\n",
    "        balance_vars = None\n",
    "        propensity_vars = None\n",
    "        extra_data = {}\n",
    "\n",
    "        # Prepare data for matching\n",
    "        loss_type = kwargs.get(\"loss_type\", None)\n",
    "        nn_p_regression = kwargs.get(\"nn_p_regression\", None)\n",
    "        original_mode = kwargs.get(\"original_mode\", None)\n",
    "\n",
    "        if not (loss_type or nn_p_regression or original_mode):\n",
    "            raise Exception(\"Must supply loss type or p regression option to read from files\")\n",
    "\n",
    "        if loss_type:\n",
    "            assignments, outcomes, covar_data, original_covars, extra_data = \\\n",
    "                get_data_from_file(loss_type=loss_type, nn_p_regression=nn_p_regression)\n",
    "\n",
    "            if kwargs.get(\"evaluate_on_original_covars\", False):\n",
    "                balance_vars=original_covars\n",
    "\n",
    "            if kwargs.get(\"propensity_on_original_covars\", False):\n",
    "                propensity_vars=original_covars\n",
    "\n",
    "        else:\n",
    "            assignments, outcomes, covar_data, extra_data =\\\n",
    "                get_data_from_file(\n",
    "                    loss_type=loss_type,\n",
    "                    nn_p_regression=nn_p_regression,\n",
    "                    original_mode=original_mode)\n",
    "\n",
    "        # Run matching\n",
    "        result_tuple  = get_estimate(outcomes,\n",
    "                                  assignments,\n",
    "                                  covar_data,\n",
    "                                  estimator,\n",
    "                                  balance_vars=balance_vars,\n",
    "                                  propensity_vars=propensity_vars,\n",
    "                                  *args,\n",
    "                                  **extra_data,\n",
    "                                  **kwargs)\n",
    "            \n",
    "        result = result_tuple[0]\n",
    "        \n",
    "        bias = np.abs((nsw_effect-result)/nsw_effect * 100)\n",
    "\n",
    "        result_data = {\"result\": result, \"Bias\": bias}\n",
    "        \n",
    "        if estimator == genmatch_est:\n",
    "            result_data[\"fitnesses\"] = result_tuple[1]\n",
    "            result_data[\"weights\"] = result_tuple[2]\n",
    "            \n",
    "            if verbose:\n",
    "                print(\"Fitnesses: \", result_data[\"fitnesses\"][:10])\n",
    "                print(\"Weights: \",  result_data[\"weights\"])\n",
    "        \n",
    "        if store_name:\n",
    "            store_results_dict(result_data, store_name)\n",
    "    else:   \n",
    "        if verbose:\n",
    "            print(\"Displaying cached results.\\n\")\n",
    "    \n",
    "    if verbose:\n",
    "        print(\"Bias\", result_data[\"Bias\"])\n",
    "        print(\"Estimated effect ${}\".format(result_data[\"result\"]))\n",
    "        \n",
    "    return result_data"
   ]
  },
  {
   "cell_type": "code",
   "execution_count": null,
   "metadata": {},
   "outputs": [
    {
     "name": "stdout",
     "output_type": "stream",
     "text": [
      "No valid, existant results found. Beggining trial.\n",
      "\n"
     ]
    }
   ],
   "source": [
    "run_simulation(\n",
    "    estimator=genmatch_est,\n",
    "    store_name=\"original_mode\",\n",
    "    original_mode=True,\n",
    "    overwrite=True,\n",
    "    verbose=True)"
   ]
  },
  {
   "cell_type": "markdown",
   "metadata": {},
   "source": [
    "#### AE with only Reconstruction Loss\n",
    "\n",
    "\n",
    "#### Config 1\n",
    "Pure reconstruction with propensity score estimates"
   ]
  },
  {
   "cell_type": "code",
   "execution_count": null,
   "metadata": {},
   "outputs": [],
   "source": [
    "run_simulation(\n",
    "    estimator=genmatch_est,\n",
    "    loss_type=\"reconstruction\",\n",
    "    store_name=\"AE_reconstruction_plain\",\n",
    "    verbose=True)"
   ]
  },
  {
   "cell_type": "markdown",
   "metadata": {},
   "source": [
    "#### Config 2\n",
    "Pure reconstruction *without* propensity score estimates"
   ]
  },
  {
   "cell_type": "code",
   "execution_count": 39,
   "metadata": {
    "scrolled": true
   },
   "outputs": [
    {
     "name": "stdout",
     "output_type": "stream",
     "text": [
      "Results File: AE/Reconstruction/nopropscores/est_genmatch_est_runs_200_n_1000\n",
      "Displaying cached results.\n",
      "\n",
      "Results\n",
      "Model:  A_add_lin\n",
      "1 Bias:  0.5388832593158581\n",
      "1 RMSE:  0.07368715901276338 \n",
      "\n",
      "Model:  B_add_mild_nlin\n",
      "1 Bias:  3.276210486566693\n",
      "1 RMSE:  0.0816027177764639 \n",
      "\n",
      "Model:  C_add_mod_nlin\n",
      "1 Bias:  0.6999435126924826\n",
      "1 RMSE:  0.07554576764697919 \n",
      "\n",
      "Model:  D_mild_nadd_lin\n",
      "1 Bias:  4.937316461303445\n",
      "1 RMSE:  0.08274988726545493 \n",
      "\n",
      "Model:  E_mild_nadd_mild_nlin\n",
      "1 Bias:  7.481250991590314\n",
      "1 RMSE:  0.08478344012915207 \n",
      "\n",
      "Model:  F_mod_nadd_lin\n",
      "1 Bias:  0.9411372663771971\n",
      "1 RMSE:  0.07537800943456885 \n",
      "\n",
      "Model:  G_mod_nadd_mod_nlin\n",
      "1 Bias:  0.8048814215327594\n",
      "1 RMSE:  0.07788164426593222 \n",
      "\n"
     ]
    }
   ],
   "source": [
    "run_test_battery(\n",
    "    est=genmatch_est,\n",
    "    runs=ae_runs,\n",
    "    n_samples=1000,\n",
    "    from_files=True,\n",
    "    loss_type=\"reconstruction\",\n",
    "    results_subfolder=\"AE/Reconstruction/nopropscores\",\n",
    "    genmatch_with_prop_scores=False,\n",
    "    verbosity=2)"
   ]
  },
  {
   "cell_type": "markdown",
   "metadata": {},
   "source": [
    "#### Config 3\n",
    "Pure reconstruction, evaluating balance on uncompressed data, *without* propensity score."
   ]
  },
  {
   "cell_type": "code",
   "execution_count": 40,
   "metadata": {
    "scrolled": true
   },
   "outputs": [
    {
     "name": "stdout",
     "output_type": "stream",
     "text": [
      "Results File: AE/Reconstruction/evalonoriginal/est_genmatch_est_runs_200_n_1000\n",
      "Displaying cached results.\n",
      "\n",
      "Results\n",
      "Model:  A_add_lin\n",
      "1 Bias:  1.552233121749752\n",
      "1 RMSE:  0.06527597429814515 \n",
      "\n",
      "Model:  B_add_mild_nlin\n",
      "1 Bias:  3.333034582793069\n",
      "1 RMSE:  0.06967542349832183 \n",
      "\n",
      "Model:  C_add_mod_nlin\n",
      "1 Bias:  0.6790984831418302\n",
      "1 RMSE:  0.06579060225122386 \n",
      "\n",
      "Model:  D_mild_nadd_lin\n",
      "1 Bias:  4.3816613069158254\n",
      "1 RMSE:  0.07068863465516317 \n",
      "\n",
      "Model:  E_mild_nadd_mild_nlin\n",
      "1 Bias:  6.876422257502002\n",
      "1 RMSE:  0.07278407746587175 \n",
      "\n",
      "Model:  F_mod_nadd_lin\n",
      "1 Bias:  2.58611002166168\n",
      "1 RMSE:  0.06981215022358879 \n",
      "\n",
      "Model:  G_mod_nadd_mod_nlin\n",
      "1 Bias:  0.502204523397222\n",
      "1 RMSE:  0.0691460613259185 \n",
      "\n"
     ]
    }
   ],
   "source": [
    "run_test_battery(\n",
    "    est=genmatch_est,\n",
    "    runs=ae_runs,\n",
    "    n_samples=1000,\n",
    "    from_files=True,\n",
    "    loss_type=\"reconstruction\",\n",
    "    results_subfolder=\"AE/Reconstruction/evalonoriginal\",\n",
    "    evaluate_on_original_covars=True,\n",
    "    genmatch_with_prop_scores=False,\n",
    "    verbosity=2)"
   ]
  },
  {
   "cell_type": "markdown",
   "metadata": {},
   "source": [
    "#### Config 4\n",
    "Pure reconstruction *with* propensity score derived from uncompressed data. Evaluating on uncompressed."
   ]
  },
  {
   "cell_type": "code",
   "execution_count": 41,
   "metadata": {
    "scrolled": true
   },
   "outputs": [
    {
     "name": "stdout",
     "output_type": "stream",
     "text": [
      "Results File: AE/Reconstruction/evalonoriginal_withp/est_genmatch_est_runs_200_n_1000\n",
      "Displaying cached results.\n",
      "\n",
      "Results\n",
      "Model:  A_add_lin\n",
      "1 Bias:  0.7067484388360161\n",
      "1 RMSE:  0.03786592930152072 \n",
      "\n",
      "Model:  B_add_mild_nlin\n",
      "1 Bias:  0.13339724242402798\n",
      "1 RMSE:  0.043485078136632285 \n",
      "\n",
      "Model:  C_add_mod_nlin\n",
      "1 Bias:  0.11494109318830585\n",
      "1 RMSE:  0.050248376512268364 \n",
      "\n",
      "Model:  D_mild_nadd_lin\n",
      "1 Bias:  1.9150254839541625\n",
      "1 RMSE:  0.04117176894231486 \n",
      "\n",
      "Model:  E_mild_nadd_mild_nlin\n",
      "1 Bias:  3.1961874905224175\n",
      "1 RMSE:  0.04268150513623945 \n",
      "\n",
      "Model:  F_mod_nadd_lin\n",
      "1 Bias:  1.8485395850150468\n",
      "1 RMSE:  0.04785803044605611 \n",
      "\n",
      "Model:  G_mod_nadd_mod_nlin\n",
      "1 Bias:  0.18265461358981974\n",
      "1 RMSE:  0.053080370063081465 \n",
      "\n"
     ]
    }
   ],
   "source": [
    "run_test_battery(\n",
    "    est=genmatch_est,\n",
    "    runs=ae_runs,\n",
    "    n_samples=1000,\n",
    "    from_files=True,\n",
    "    loss_type=\"reconstruction\",\n",
    "    results_subfolder=\"AE/Reconstruction/evalonoriginal_withp\",\n",
    "    evaluate_on_original_covars=True,\n",
    "    propensity_on_original_covars=True,\n",
    "    verbosity=2)"
   ]
  },
  {
   "cell_type": "markdown",
   "metadata": {},
   "source": [
    "#### Config 5\n",
    "Pure reconstruction *with* propensity score derived from uncompressed data. Evaluating on compressed."
   ]
  },
  {
   "cell_type": "code",
   "execution_count": 42,
   "metadata": {
    "scrolled": true
   },
   "outputs": [
    {
     "name": "stdout",
     "output_type": "stream",
     "text": [
      "Results File: AE/Reconstruction/withp/est_genmatch_est_runs_200_n_1000\n",
      "Displaying cached results.\n",
      "\n",
      "Results\n",
      "Model:  A_add_lin\n",
      "1 Bias:  1.373322079710853\n",
      "1 RMSE:  0.048648363590301766 \n",
      "\n",
      "Model:  B_add_mild_nlin\n",
      "1 Bias:  0.18520053724370186\n",
      "1 RMSE:  0.053997099576098474 \n",
      "\n",
      "Model:  C_add_mod_nlin\n",
      "1 Bias:  0.6021376702766212\n",
      "1 RMSE:  0.05363450514544961 \n",
      "\n",
      "Model:  D_mild_nadd_lin\n",
      "1 Bias:  1.9725293478895758\n",
      "1 RMSE:  0.05146490692396631 \n",
      "\n",
      "Model:  E_mild_nadd_mild_nlin\n",
      "1 Bias:  4.154412436745519\n",
      "1 RMSE:  0.05394638272616707 \n",
      "\n",
      "Model:  F_mod_nadd_lin\n",
      "1 Bias:  1.9623181573686646\n",
      "1 RMSE:  0.055835868418105714 \n",
      "\n",
      "Model:  G_mod_nadd_mod_nlin\n",
      "1 Bias:  0.13880680510402485\n",
      "1 RMSE:  0.060491851132907115 \n",
      "\n"
     ]
    }
   ],
   "source": [
    "run_test_battery(\n",
    "    est=genmatch_est,\n",
    "    runs=ae_runs,\n",
    "    n_samples=1000,\n",
    "    from_files=True,\n",
    "    loss_type=\"reconstruction\",\n",
    "    results_subfolder=\"AE/Reconstruction/withp\",\n",
    "    evaluate_on_original_covars=False,\n",
    "    propensity_on_original_covars=True,\n",
    "    verbosity=2)"
   ]
  },
  {
   "cell_type": "markdown",
   "metadata": {},
   "source": [
    "#### AE with Reconstruction and Sparsity\n",
    "\n",
    "#### Config 1\n",
    "\n",
    "Sparse reconstruction *without* propensity score."
   ]
  },
  {
   "cell_type": "code",
   "execution_count": 46,
   "metadata": {
    "scrolled": true
   },
   "outputs": [
    {
     "name": "stdout",
     "output_type": "stream",
     "text": [
      "Results File: AE/Sparsity/est_genmatch_est_runs_50_n_1000\n",
      "Displaying cached results.\n",
      "\n",
      "Results\n",
      "Model:  A_add_lin\n",
      "1 Bias:  8.526097159023248\n",
      "1 RMSE:  0.1134592853375768 \n",
      "\n",
      "Model:  B_add_mild_nlin\n",
      "1 Bias:  4.131268935319159\n",
      "1 RMSE:  0.1160868056178415 \n",
      "\n",
      "Model:  C_add_mod_nlin\n",
      "1 Bias:  8.430802732391273\n",
      "1 RMSE:  0.1108407840160775 \n",
      "\n",
      "Model:  D_mild_nadd_lin\n",
      "1 Bias:  5.322330536939029\n",
      "1 RMSE:  0.10460071276975336 \n",
      "\n",
      "Model:  E_mild_nadd_mild_nlin\n",
      "1 Bias:  0.8211996810856915\n",
      "1 RMSE:  0.12143098844611416 \n",
      "\n",
      "Model:  F_mod_nadd_lin\n",
      "1 Bias:  13.889165268095837\n",
      "1 RMSE:  0.13591469046446247 \n",
      "\n",
      "Model:  G_mod_nadd_mod_nlin\n",
      "1 Bias:  6.744962783709057\n",
      "1 RMSE:  0.10264505172208324 \n",
      "\n"
     ]
    }
   ],
   "source": [
    "run_test_battery(\n",
    "    est=genmatch_est,\n",
    "    runs=50,\n",
    "    n_samples=1000,\n",
    "    from_files=True,\n",
    "    loss_type=\"sparsity\",\n",
    "    results_subfolder=\"AE/Sparsity\",\n",
    "    genmatch_with_prop_scores=False,\n",
    "    verbosity=2)"
   ]
  },
  {
   "cell_type": "markdown",
   "metadata": {},
   "source": [
    "#### Config 2\n",
    "\n",
    "Sparse with prop scores"
   ]
  },
  {
   "cell_type": "code",
   "execution_count": 47,
   "metadata": {
    "scrolled": true
   },
   "outputs": [
    {
     "name": "stdout",
     "output_type": "stream",
     "text": [
      "Results File: AE/Sparsity/withp/est_genmatch_est_runs_50_n_1000\n",
      "Displaying cached results.\n",
      "\n",
      "Results\n",
      "Model:  A_add_lin\n",
      "1 Bias:  1.6136292441155462\n",
      "1 RMSE:  0.05547243408003388 \n",
      "\n",
      "Model:  B_add_mild_nlin\n",
      "1 Bias:  0.44513296886365444\n",
      "1 RMSE:  0.0532783960077565 \n",
      "\n",
      "Model:  C_add_mod_nlin\n",
      "1 Bias:  0.4257899593481197\n",
      "1 RMSE:  0.05914334516222583 \n",
      "\n",
      "Model:  D_mild_nadd_lin\n",
      "1 Bias:  0.4726712662232528\n",
      "1 RMSE:  0.052783396792566356 \n",
      "\n",
      "Model:  E_mild_nadd_mild_nlin\n",
      "1 Bias:  2.583291458156751\n",
      "1 RMSE:  0.06302520184923029 \n",
      "\n",
      "Model:  F_mod_nadd_lin\n",
      "1 Bias:  3.274417247927261\n",
      "1 RMSE:  0.06293152300833735 \n",
      "\n",
      "Model:  G_mod_nadd_mod_nlin\n",
      "1 Bias:  0.695770947223328\n",
      "1 RMSE:  0.06237666457453329 \n",
      "\n"
     ]
    }
   ],
   "source": [
    "run_test_battery(\n",
    "    est=genmatch_est,\n",
    "    runs=50,\n",
    "    n_samples=1000,\n",
    "    from_files=True,\n",
    "    loss_type=\"sparsity\",\n",
    "    results_subfolder=\"AE/Sparsity/withp\",\n",
    "    genmatch_with_prop_scores=True,\n",
    "    propensity_on_original_covars=True,\n",
    "    verbosity=2)"
   ]
  },
  {
   "cell_type": "markdown",
   "metadata": {},
   "source": [
    "#### Config 3\n",
    "Sparse with prop scores, eval on original"
   ]
  },
  {
   "cell_type": "code",
   "execution_count": 48,
   "metadata": {
    "scrolled": true
   },
   "outputs": [
    {
     "name": "stdout",
     "output_type": "stream",
     "text": [
      "Results File: AE/Sparsity/evalonoriginal_withp/est_genmatch_est_runs_50_n_1000\n",
      "Displaying cached results.\n",
      "\n",
      "Results\n",
      "Model:  A_add_lin\n",
      "1 Bias:  3.0052785609630153\n",
      "1 RMSE:  0.05135956480780116 \n",
      "\n",
      "Model:  B_add_mild_nlin\n",
      "1 Bias:  0.514080145976968\n",
      "1 RMSE:  0.043153932448751264 \n",
      "\n",
      "Model:  C_add_mod_nlin\n",
      "1 Bias:  0.9633292625895341\n",
      "1 RMSE:  0.04668919693650328 \n",
      "\n",
      "Model:  D_mild_nadd_lin\n",
      "1 Bias:  0.30727483094548486\n",
      "1 RMSE:  0.05212186169768896 \n",
      "\n",
      "Model:  E_mild_nadd_mild_nlin\n",
      "1 Bias:  2.7111127095297336\n",
      "1 RMSE:  0.05075685049205623 \n",
      "\n",
      "Model:  F_mod_nadd_lin\n",
      "1 Bias:  0.43743334386364874\n",
      "1 RMSE:  0.04714358098168887 \n",
      "\n",
      "Model:  G_mod_nadd_mod_nlin\n",
      "1 Bias:  0.9975102646443165\n",
      "1 RMSE:  0.05399429284681247 \n",
      "\n"
     ]
    }
   ],
   "source": [
    "run_test_battery(\n",
    "    est=genmatch_est,\n",
    "    runs=50,\n",
    "    n_samples=1000,\n",
    "    from_files=True,\n",
    "    loss_type=\"sparsity\",\n",
    "    results_subfolder=\"AE/Sparsity/evalonoriginal_withp\",\n",
    "    genmatch_with_prop_scores=True,\n",
    "    propensity_on_original_covars=True,\n",
    "    evaluate_on_original_covars=True,\n",
    "    verbosity=2)"
   ]
  },
  {
   "cell_type": "markdown",
   "metadata": {},
   "source": [
    "### Results Printout"
   ]
  },
  {
   "cell_type": "code",
   "execution_count": 50,
   "metadata": {},
   "outputs": [
    {
     "name": "stdout",
     "output_type": "stream",
     "text": [
      "A_add_lin \n",
      "\n",
      "Linear\n",
      "RMSE: 0.0731 Bias: 0.0459\n",
      "GenMatch\n",
      "RMSE: 0.0416 Bias: 5.5586\n",
      "GenMatch AE Recon\n",
      "RMSE: 0.0794 Bias: 0.4983\n",
      "GenMatch AE Recon, No P Score\n",
      "RMSE: 0.0737 Bias: 0.5389\n",
      "GenMatch AE Recon, Org. Fitness\n",
      "RMSE: 0.0653 Bias: 1.5522\n",
      "GenMatch AE Recon, Org. Fitness, With P\n",
      "RMSE: 0.0379 Bias: 0.7067\n",
      "GenMatch AE Recon, With P\n",
      "RMSE: 0.0486 Bias: 1.3733\n",
      "GenMatch AE Sparse\n",
      "RMSE: 0.1135 Bias: 8.5261\n",
      "GenMatch AE Sparse, Org. Fitness, With P\n",
      "RMSE: 0.0514 Bias: 3.0053\n",
      "GenMatch AE Sparse, With P\n",
      "RMSE: 0.0555 Bias: 1.6136\n",
      "==============\n",
      "\n",
      "B_add_mild_nlin \n",
      "\n",
      "Linear\n",
      "RMSE: 0.0659 Bias: 3.1844\n",
      "GenMatch\n",
      "RMSE: 0.038 Bias: 4.3099\n",
      "GenMatch AE Recon\n",
      "RMSE: 0.0825 Bias: 5.6199\n",
      "GenMatch AE Recon, No P Score\n",
      "RMSE: 0.0816 Bias: 3.2762\n",
      "GenMatch AE Recon, Org. Fitness\n",
      "RMSE: 0.0697 Bias: 3.333\n",
      "GenMatch AE Recon, Org. Fitness, With P\n",
      "RMSE: 0.0435 Bias: 0.1334\n",
      "GenMatch AE Recon, With P\n",
      "RMSE: 0.054 Bias: 0.1852\n",
      "GenMatch AE Sparse\n",
      "RMSE: 0.1161 Bias: 4.1313\n",
      "GenMatch AE Sparse, Org. Fitness, With P\n",
      "RMSE: 0.0432 Bias: 0.5141\n",
      "GenMatch AE Sparse, With P\n",
      "RMSE: 0.0533 Bias: 0.4451\n",
      "==============\n",
      "\n",
      "C_add_mod_nlin \n",
      "\n",
      "Linear\n",
      "RMSE: 0.0765 Bias: 10.0944\n",
      "GenMatch\n",
      "RMSE: 0.0432 Bias: 3.7158\n",
      "GenMatch AE Recon\n",
      "RMSE: 0.0796 Bias: 1.823\n",
      "GenMatch AE Recon, No P Score\n",
      "RMSE: 0.0755 Bias: 0.6999\n",
      "GenMatch AE Recon, Org. Fitness\n",
      "RMSE: 0.0658 Bias: 0.6791\n",
      "GenMatch AE Recon, Org. Fitness, With P\n",
      "RMSE: 0.0502 Bias: 0.1149\n",
      "GenMatch AE Recon, With P\n",
      "RMSE: 0.0536 Bias: 0.6021\n",
      "GenMatch AE Sparse\n",
      "RMSE: 0.1108 Bias: 8.4308\n",
      "GenMatch AE Sparse, Org. Fitness, With P\n",
      "RMSE: 0.0467 Bias: 0.9633\n",
      "GenMatch AE Sparse, With P\n",
      "RMSE: 0.0591 Bias: 0.4258\n",
      "==============\n",
      "\n",
      "D_mild_nadd_lin \n",
      "\n",
      "Linear\n",
      "RMSE: 0.0853 Bias: 6.7207\n",
      "GenMatch\n",
      "RMSE: 0.0408 Bias: 2.3067\n",
      "GenMatch AE Recon\n",
      "RMSE: 0.0868 Bias: 6.2641\n",
      "GenMatch AE Recon, No P Score\n",
      "RMSE: 0.0827 Bias: 4.9373\n",
      "GenMatch AE Recon, Org. Fitness\n",
      "RMSE: 0.0707 Bias: 4.3817\n",
      "GenMatch AE Recon, Org. Fitness, With P\n",
      "RMSE: 0.0412 Bias: 1.915\n",
      "GenMatch AE Recon, With P\n",
      "RMSE: 0.0515 Bias: 1.9725\n",
      "GenMatch AE Sparse\n",
      "RMSE: 0.1046 Bias: 5.3223\n",
      "GenMatch AE Sparse, Org. Fitness, With P\n",
      "RMSE: 0.0521 Bias: 0.3073\n",
      "GenMatch AE Sparse, With P\n",
      "RMSE: 0.0528 Bias: 0.4727\n",
      "==============\n",
      "\n",
      "E_mild_nadd_mild_nlin \n",
      "\n",
      "Linear\n",
      "RMSE: 0.0909 Bias: 10.3617\n",
      "GenMatch\n",
      "RMSE: 0.0389 Bias: 1.6356\n",
      "GenMatch AE Recon\n",
      "RMSE: 0.0871 Bias: 8.5812\n",
      "GenMatch AE Recon, No P Score\n",
      "RMSE: 0.0848 Bias: 7.4813\n",
      "GenMatch AE Recon, Org. Fitness\n",
      "RMSE: 0.0728 Bias: 6.8764\n",
      "GenMatch AE Recon, Org. Fitness, With P\n",
      "RMSE: 0.0427 Bias: 3.1962\n",
      "GenMatch AE Recon, With P\n",
      "RMSE: 0.0539 Bias: 4.1544\n",
      "GenMatch AE Sparse\n",
      "RMSE: 0.1214 Bias: 0.8212\n",
      "GenMatch AE Sparse, Org. Fitness, With P\n",
      "RMSE: 0.0508 Bias: 2.7111\n",
      "GenMatch AE Sparse, With P\n",
      "RMSE: 0.063 Bias: 2.5833\n",
      "==============\n",
      "\n",
      "F_mod_nadd_lin \n",
      "\n",
      "Linear\n",
      "RMSE: 0.0761 Bias: 3.1228\n",
      "GenMatch\n",
      "RMSE: 0.044 Bias: 5.0587\n",
      "GenMatch AE Recon\n",
      "RMSE: 0.0755 Bias: 0.009\n",
      "GenMatch AE Recon, No P Score\n",
      "RMSE: 0.0754 Bias: 0.9411\n",
      "GenMatch AE Recon, Org. Fitness\n",
      "RMSE: 0.0698 Bias: 2.5861\n",
      "GenMatch AE Recon, Org. Fitness, With P\n",
      "RMSE: 0.0479 Bias: 1.8485\n",
      "GenMatch AE Recon, With P\n",
      "RMSE: 0.0558 Bias: 1.9623\n",
      "GenMatch AE Sparse\n",
      "RMSE: 0.1359 Bias: 13.8892\n",
      "GenMatch AE Sparse, Org. Fitness, With P\n",
      "RMSE: 0.0471 Bias: 0.4374\n",
      "GenMatch AE Sparse, With P\n",
      "RMSE: 0.0629 Bias: 3.2744\n",
      "==============\n",
      "\n",
      "G_mod_nadd_mod_nlin \n",
      "\n",
      "Linear\n",
      "RMSE: 0.078 Bias: 11.8302\n",
      "GenMatch\n",
      "RMSE: 0.0444 Bias: 3.1855\n",
      "GenMatch AE Recon\n",
      "RMSE: 0.0751 Bias: 0.0155\n",
      "GenMatch AE Recon, No P Score\n",
      "RMSE: 0.0779 Bias: 0.8049\n",
      "GenMatch AE Recon, Org. Fitness\n",
      "RMSE: 0.0691 Bias: 0.5022\n",
      "GenMatch AE Recon, Org. Fitness, With P\n",
      "RMSE: 0.0531 Bias: 0.1827\n",
      "GenMatch AE Recon, With P\n",
      "RMSE: 0.0605 Bias: 0.1388\n",
      "GenMatch AE Sparse\n",
      "RMSE: 0.1026 Bias: 6.745\n",
      "GenMatch AE Sparse, Org. Fitness, With P\n",
      "RMSE: 0.054 Bias: 0.9975\n",
      "GenMatch AE Sparse, With P\n",
      "RMSE: 0.0624 Bias: 0.6958\n",
      "==============\n",
      "\n"
     ]
    }
   ],
   "source": [
    "gm_results = retrieve_results_dict(gm_combined_name)\n",
    "lin_results = retrieve_results_dict(linear_combined_name)\n",
    "\n",
    "gm_ae_recon_results = retrieve_results_dict(\n",
    "    get_store_name(\"AE/Reconstruction\", assignment_model_names, genmatch_est, ae_runs, 1000))\n",
    "\n",
    "gm_ae_recon_no_prop_score_results = retrieve_results_dict(\n",
    "    get_store_name(\"AE/Reconstruction/nopropscores\", assignment_model_names, genmatch_est, ae_runs, 1000))\n",
    "\n",
    "gm_ae_recon_original_fitness_results = retrieve_results_dict(\n",
    "    get_store_name(\"AE/Reconstruction/evalonoriginal\", assignment_model_names, genmatch_est, ae_runs, 1000))\n",
    "\n",
    "gm_ae_recon_original_fitness_with_prop_score_results = retrieve_results_dict(\n",
    "    get_store_name(\"AE/Reconstruction/evalonoriginal_withp\", assignment_model_names, genmatch_est, ae_runs, 1000))\n",
    "\n",
    "gm_ae_recon_with_prop_score_results = retrieve_results_dict(\n",
    "    get_store_name(\"AE/Reconstruction/withp\", assignment_model_names, genmatch_est, ae_runs, 1000))\n",
    "\n",
    "\n",
    "###\n",
    "\n",
    "gm_ae_sparse_results = retrieve_results_dict(\n",
    "    get_store_name(\"AE/Sparsity\", assignment_model_names, genmatch_est, 50, 1000))\n",
    "\n",
    "gm_ae_sparse_original_fitness_with_prop_score_results = retrieve_results_dict(\n",
    "    get_store_name(\"AE/Sparsity/evalonoriginal_withp\", assignment_model_names, genmatch_est, 50, 1000))\n",
    "\n",
    "gm_ae_sparse_with_prop_score_results = retrieve_results_dict(\n",
    "    get_store_name(\"AE/Sparsity/withp\", assignment_model_names, genmatch_est, 50, 1000))\n",
    "\n",
    "\n",
    "\n",
    "results = {\n",
    "    \"Linear\": lin_results,\n",
    "    \"GenMatch\": gm_results,\n",
    "    \"GenMatch AE Recon\": gm_ae_recon_results,\n",
    "    \"GenMatch AE Recon, No P Score\": gm_ae_recon_no_prop_score_results,\n",
    "    \"GenMatch AE Recon, Org. Fitness\": gm_ae_recon_original_fitness_results,\n",
    "    \"GenMatch AE Recon, Org. Fitness, With P\": gm_ae_recon_original_fitness_with_prop_score_results,\n",
    "    \"GenMatch AE Recon, With P\": gm_ae_recon_with_prop_score_results,\n",
    "    ###\n",
    "    \"GenMatch AE Sparse\": gm_ae_sparse_results,\n",
    "    \"GenMatch AE Sparse, Org. Fitness, With P\": gm_ae_sparse_original_fitness_with_prop_score_results,\n",
    "    \"GenMatch AE Sparse, With P\": gm_ae_sparse_with_prop_score_results,\n",
    "}\n",
    "\n",
    "for model in assignment_model_names:\n",
    "    print(model, \"\\n\")\n",
    "    for matching in results.keys():\n",
    "        print(matching)\n",
    "        print(\"RMSE:\", np.round(results[matching][model][\"RMSE\"], 4), \"Bias:\",\n",
    "              np.round(results[matching][model][\"Bias\"], 4))\n",
    "        \n",
    "    print(\"==============\")\n",
    "    print()\n",
    "    "
   ]
  },
  {
   "cell_type": "markdown",
   "metadata": {},
   "source": [
    "### E. VAE"
   ]
  },
  {
   "cell_type": "code",
   "execution_count": 51,
   "metadata": {},
   "outputs": [],
   "source": [
    "vae_runs = 200"
   ]
  },
  {
   "cell_type": "markdown",
   "metadata": {},
   "source": [
    "#### 1. GenMatch in latent space\n",
    "\n",
    "#### Config 1\n",
    "Genmatch without propensity score"
   ]
  },
  {
   "cell_type": "code",
   "execution_count": 52,
   "metadata": {},
   "outputs": [
    {
     "name": "stdout",
     "output_type": "stream",
     "text": [
      "Results File: VAE//est_genmatch_est_runs_200_n_1000\n",
      "Displaying cached results.\n",
      "\n",
      "Results\n",
      "Model:  A_add_lin\n",
      "1 Bias:  7.312201130997685\n",
      "1 RMSE:  0.05295933266800956 \n",
      "\n",
      "Model:  B_add_mild_nlin\n",
      "1 Bias:  7.214011335197719\n",
      "1 RMSE:  0.052447212539800586 \n",
      "\n",
      "Model:  C_add_mod_nlin\n",
      "1 Bias:  5.105324395918432\n",
      "1 RMSE:  0.04918834245145284 \n",
      "\n",
      "Model:  D_mild_nadd_lin\n",
      "1 Bias:  5.1043386948034275\n",
      "1 RMSE:  0.04855458362958724 \n",
      "\n",
      "Model:  E_mild_nadd_mild_nlin\n",
      "1 Bias:  3.875474594602394\n",
      "1 RMSE:  0.04781873913431988 \n",
      "\n",
      "Model:  F_mod_nadd_lin\n",
      "1 Bias:  8.549881888333742\n",
      "1 RMSE:  0.0572041703159975 \n",
      "\n",
      "Model:  G_mod_nadd_mod_nlin\n",
      "1 Bias:  4.392239501605347\n",
      "1 RMSE:  0.04799559601072314 \n",
      "\n"
     ]
    }
   ],
   "source": [
    "run_test_battery(\n",
    "    est=genmatch_est,\n",
    "    runs=vae_runs,\n",
    "    n_samples=1000,\n",
    "    from_files=True,\n",
    "    loss_type=\"vae\",\n",
    "    results_subfolder=\"VAE/\",\n",
    "    genmatch_with_prop_scores=False,\n",
    "    verbosity=2)"
   ]
  },
  {
   "cell_type": "markdown",
   "metadata": {},
   "source": [
    "#### Config 2\n",
    "\n",
    "GenMatch with propensity on original covars, evaluating on latent. "
   ]
  },
  {
   "cell_type": "code",
   "execution_count": 53,
   "metadata": {
    "scrolled": true
   },
   "outputs": [
    {
     "name": "stdout",
     "output_type": "stream",
     "text": [
      "Results File: VAE/withp/est_genmatch_est_runs_200_n_1000\n",
      "Displaying cached results.\n",
      "\n",
      "Results\n",
      "Model:  A_add_lin\n",
      "1 Bias:  2.5395433059520007\n",
      "1 RMSE:  0.04808528784042503 \n",
      "\n",
      "Model:  B_add_mild_nlin\n",
      "1 Bias:  2.04490054506496\n",
      "1 RMSE:  0.04660732524183032 \n",
      "\n",
      "Model:  C_add_mod_nlin\n",
      "1 Bias:  0.15073221258237324\n",
      "1 RMSE:  0.0507555360190453 \n",
      "\n",
      "Model:  D_mild_nadd_lin\n",
      "1 Bias:  0.3606620636051126\n",
      "1 RMSE:  0.04962363133543826 \n",
      "\n",
      "Model:  E_mild_nadd_mild_nlin\n",
      "1 Bias:  1.5379434666280805\n",
      "1 RMSE:  0.0499287081523966 \n",
      "\n",
      "Model:  F_mod_nadd_lin\n",
      "1 Bias:  3.1169056061108686\n",
      "1 RMSE:  0.05503239603006674 \n",
      "\n",
      "Model:  G_mod_nadd_mod_nlin\n",
      "1 Bias:  1.3989182232673525\n",
      "1 RMSE:  0.05336476463717196 \n",
      "\n"
     ]
    }
   ],
   "source": [
    "run_test_battery(\n",
    "    est=genmatch_est,\n",
    "    runs=vae_runs,\n",
    "    n_samples=1000,\n",
    "    from_files=True,\n",
    "    loss_type=\"vae\",\n",
    "    results_subfolder=\"VAE/withp\",\n",
    "    genmatch_with_prop_scores=True,\n",
    "    propensity_on_original_covars=True,\n",
    "    verbosity=2)"
   ]
  },
  {
   "cell_type": "markdown",
   "metadata": {},
   "source": [
    "#### Config 3\n",
    "\n",
    "GenMatch with propensity on original covars, evaluating balance on original covars."
   ]
  },
  {
   "cell_type": "code",
   "execution_count": 54,
   "metadata": {
    "scrolled": true
   },
   "outputs": [
    {
     "name": "stdout",
     "output_type": "stream",
     "text": [
      "Results File: VAE/evalonoriginal_withp/est_genmatch_est_runs_200_n_1000\n",
      "Displaying cached results.\n",
      "\n",
      "Results\n",
      "Model:  A_add_lin\n",
      "1 Bias:  0.8517170004947486\n",
      "1 RMSE:  0.04701381917058319 \n",
      "\n",
      "Model:  B_add_mild_nlin\n",
      "1 Bias:  0.3672756443601539\n",
      "1 RMSE:  0.048237894709229706 \n",
      "\n",
      "Model:  C_add_mod_nlin\n",
      "1 Bias:  1.3369943583773656\n",
      "1 RMSE:  0.053340455624368247 \n",
      "\n",
      "Model:  D_mild_nadd_lin\n",
      "1 Bias:  1.1463459806259935\n",
      "1 RMSE:  0.04852571125820148 \n",
      "\n",
      "Model:  E_mild_nadd_mild_nlin\n",
      "1 Bias:  3.383983114942237\n",
      "1 RMSE:  0.05382206092404716 \n",
      "\n",
      "Model:  F_mod_nadd_lin\n",
      "1 Bias:  1.2160734246097318\n",
      "1 RMSE:  0.055325910561995914 \n",
      "\n",
      "Model:  G_mod_nadd_mod_nlin\n",
      "1 Bias:  2.619943937710873\n",
      "1 RMSE:  0.052742346254803 \n",
      "\n"
     ]
    }
   ],
   "source": [
    "run_test_battery(\n",
    "    est=genmatch_est,\n",
    "    runs=vae_runs,\n",
    "    n_samples=1000,\n",
    "    from_files=True,\n",
    "    loss_type=\"vae\",\n",
    "    results_subfolder=\"VAE/evalonoriginal_withp\",\n",
    "    genmatch_with_prop_scores=True,\n",
    "    propensity_on_original_covars=True,\n",
    "    evaluate_on_original_covars=True,\n",
    "    verbosity=2)"
   ]
  },
  {
   "cell_type": "markdown",
   "metadata": {},
   "source": [
    "#### 2. Mahalanobis Distance\n",
    "\n",
    "Use the latent space means and standard deviations to try direct matching. "
   ]
  },
  {
   "cell_type": "markdown",
   "metadata": {},
   "source": [
    "#### Config 1\n",
    "\n",
    "MD distance plain"
   ]
  },
  {
   "cell_type": "code",
   "execution_count": 55,
   "metadata": {
    "scrolled": true
   },
   "outputs": [
    {
     "name": "stdout",
     "output_type": "stream",
     "text": [
      "Results File: VAE/md/est_mahalanobis_matching_runs_200_n_1000\n",
      "Displaying cached results.\n",
      "\n",
      "Results\n",
      "Model:  A_add_lin\n",
      "1 Bias:  7.544441012550429\n",
      "1 RMSE:  0.05138754558193052 \n",
      "\n",
      "Model:  B_add_mild_nlin\n",
      "1 Bias:  7.298749820510931\n",
      "1 RMSE:  0.050962216786474376 \n",
      "\n",
      "Model:  C_add_mod_nlin\n",
      "1 Bias:  3.9777874804774442\n",
      "1 RMSE:  0.04374998484853666 \n",
      "\n",
      "Model:  D_mild_nadd_lin\n",
      "1 Bias:  5.180281858062211\n",
      "1 RMSE:  0.0462263853072062 \n",
      "\n",
      "Model:  E_mild_nadd_mild_nlin\n",
      "1 Bias:  4.192882095179809\n",
      "1 RMSE:  0.04551575417194539 \n",
      "\n",
      "Model:  F_mod_nadd_lin\n",
      "1 Bias:  7.983947334265511\n",
      "1 RMSE:  0.05533750312001229 \n",
      "\n",
      "Model:  G_mod_nadd_mod_nlin\n",
      "1 Bias:  4.230594789867654\n",
      "1 RMSE:  0.047919920965010125 \n",
      "\n"
     ]
    }
   ],
   "source": [
    "run_test_battery(\n",
    "    est=mahalanobis_matching,\n",
    "    runs=vae_runs,\n",
    "    n_samples=1000,\n",
    "    from_files=True,\n",
    "    loss_type=\"vae\",\n",
    "    results_subfolder=\"VAE/md\",\n",
    "    verbosity=2)"
   ]
  },
  {
   "cell_type": "markdown",
   "metadata": {},
   "source": [
    "#### Config 2\n",
    "MD distance with propensity scores"
   ]
  },
  {
   "cell_type": "code",
   "execution_count": 56,
   "metadata": {},
   "outputs": [
    {
     "name": "stdout",
     "output_type": "stream",
     "text": [
      "Results File: VAE/md_withp/est_mahalanobis_matching_runs_200_n_1000\n",
      "Displaying cached results.\n",
      "\n",
      "Results\n",
      "Model:  A_add_lin\n",
      "1 Bias:  7.57902532597313\n",
      "1 RMSE:  0.05149514462878567 \n",
      "\n",
      "Model:  B_add_mild_nlin\n",
      "1 Bias:  7.299220691076224\n",
      "1 RMSE:  0.050977018369883775 \n",
      "\n",
      "Model:  C_add_mod_nlin\n",
      "1 Bias:  3.9412419310526183\n",
      "1 RMSE:  0.043646522766075474 \n",
      "\n",
      "Model:  D_mild_nadd_lin\n",
      "1 Bias:  5.149583862026001\n",
      "1 RMSE:  0.04606738315619503 \n",
      "\n",
      "Model:  E_mild_nadd_mild_nlin\n",
      "1 Bias:  4.1849816542073155\n",
      "1 RMSE:  0.04538368034996612 \n",
      "\n",
      "Model:  F_mod_nadd_lin\n",
      "1 Bias:  7.9760975724759895\n",
      "1 RMSE:  0.05528390984921817 \n",
      "\n",
      "Model:  G_mod_nadd_mod_nlin\n",
      "1 Bias:  4.215663518355213\n",
      "1 RMSE:  0.04782197261829298 \n",
      "\n"
     ]
    }
   ],
   "source": [
    "run_test_battery(\n",
    "    est=mahalanobis_matching,\n",
    "    runs=vae_runs,\n",
    "    n_samples=1000,\n",
    "    from_files=True,\n",
    "    loss_type=\"vae\",\n",
    "    results_subfolder=\"VAE/md_withp\",\n",
    "    md_with_prop_scores=True,\n",
    "    propensity_on_original_covars=True,\n",
    "    verbosity=2)"
   ]
  },
  {
   "cell_type": "markdown",
   "metadata": {},
   "source": [
    "#### Config 3\n",
    "\n",
    "Use the Bhattacharyya Distance distance which finds distributional overlap for normal distributions."
   ]
  },
  {
   "cell_type": "code",
   "execution_count": 57,
   "metadata": {
    "scrolled": true
   },
   "outputs": [
    {
     "name": "stdout",
     "output_type": "stream",
     "text": [
      "Results File: VAE/Z2/bhat/est_mahalanobis_matching_runs_200_n_1000\n",
      "Displaying cached results.\n",
      "\n",
      "Results\n",
      "Model:  A_add_lin\n",
      "1 Bias:  7.556229902669169\n",
      "1 RMSE:  0.050628029614782195 \n",
      "\n",
      "Model:  B_add_mild_nlin\n",
      "1 Bias:  7.318992673380274\n",
      "1 RMSE:  0.050024202084690994 \n",
      "\n",
      "Model:  C_add_mod_nlin\n",
      "1 Bias:  4.181261410314277\n",
      "1 RMSE:  0.04285994072768112 \n",
      "\n",
      "Model:  D_mild_nadd_lin\n",
      "1 Bias:  5.085225497432111\n",
      "1 RMSE:  0.0452803013165698 \n",
      "\n",
      "Model:  E_mild_nadd_mild_nlin\n",
      "1 Bias:  4.142427330949168\n",
      "1 RMSE:  0.045729912752522466 \n",
      "\n",
      "Model:  F_mod_nadd_lin\n",
      "1 Bias:  8.097072410798255\n",
      "1 RMSE:  0.0545518692276087 \n",
      "\n",
      "Model:  G_mod_nadd_mod_nlin\n",
      "1 Bias:  4.523303488528463\n",
      "1 RMSE:  0.04781288827208273 \n",
      "\n"
     ]
    }
   ],
   "source": [
    "run_test_battery(\n",
    "    est=mahalanobis_matching,\n",
    "    runs=vae_runs,\n",
    "    n_samples=1000,\n",
    "    from_files=True,\n",
    "    loss_type=\"vae\",\n",
    "    results_subfolder=\"VAE/Z2/bhat\",\n",
    "    distance_metric=\"bhat\",\n",
    "    verbosity=2)"
   ]
  },
  {
   "cell_type": "markdown",
   "metadata": {},
   "source": [
    "### F. Neural Propensity Score Regression"
   ]
  },
  {
   "cell_type": "code",
   "execution_count": 30,
   "metadata": {},
   "outputs": [],
   "source": [
    "reg_ae_runs = 200"
   ]
  },
  {
   "cell_type": "code",
   "execution_count": 72,
   "metadata": {},
   "outputs": [
    {
     "name": "stdout",
     "output_type": "stream",
     "text": [
      "Results File: NN/est_logistic_prop_matching_est_runs_200_n_1000\n",
      "Displaying cached results.\n",
      "\n",
      "Results\n",
      "Model:  A_add_lin\n",
      "1 Bias:  2.516970645424258\n",
      "1 RMSE:  0.08208114416711368 \n",
      "\n",
      "Model:  B_add_mild_nlin\n",
      "1 Bias:  3.483748622303001\n",
      "1 RMSE:  0.08543882017480643 \n",
      "\n",
      "Model:  C_add_mod_nlin\n",
      "1 Bias:  5.00918193487844\n",
      "1 RMSE:  0.10057195625252761 \n",
      "\n",
      "Model:  D_mild_nadd_lin\n",
      "1 Bias:  4.505665739350313\n",
      "1 RMSE:  0.09322603726388229 \n",
      "\n",
      "Model:  E_mild_nadd_mild_nlin\n",
      "1 Bias:  5.654346511047072\n",
      "1 RMSE:  0.08809153862302047 \n",
      "\n",
      "Model:  F_mod_nadd_lin\n",
      "1 Bias:  1.3475296921836275\n",
      "1 RMSE:  0.09338027635325147 \n",
      "\n",
      "Model:  G_mod_nadd_mod_nlin\n",
      "1 Bias:  8.98239908298724\n",
      "1 RMSE:  0.12032750964509623 \n",
      "\n"
     ]
    }
   ],
   "source": [
    "run_test_battery(\n",
    "    est=logistic_prop_matching_est,\n",
    "    runs=200,\n",
    "    n_samples=1000,\n",
    "    from_files=True,\n",
    "    results_subfolder=\"NN\",\n",
    "    nn_p_regression=True\n",
    ")"
   ]
  },
  {
   "cell_type": "code",
   "execution_count": 57,
   "metadata": {},
   "outputs": [
    {
     "name": "stdout",
     "output_type": "stream",
     "text": [
      "Results File: NN/genmatch/est_genmatch_est_runs_250_n_1000\n",
      "Displaying cached results.\n",
      "\n",
      "Results\n",
      "Model:  A_add_lin\n",
      "1 Bias:  4.29807544319546\n",
      "1 RMSE:  0.03924093815095593 \n",
      "\n",
      "Model:  B_add_mild_nlin\n",
      "1 Bias:  5.027476827504075\n",
      "1 RMSE:  0.041036686487701785 \n",
      "\n",
      "Model:  C_add_mod_nlin\n",
      "1 Bias:  2.1088702260847136\n",
      "1 RMSE:  0.04341309335599729 \n",
      "\n",
      "Model:  D_mild_nadd_lin\n",
      "1 Bias:  2.3862953259334945\n",
      "1 RMSE:  0.03882568477146027 \n",
      "\n",
      "Model:  E_mild_nadd_mild_nlin\n",
      "1 Bias:  1.01074209695447\n",
      "1 RMSE:  0.03792983147379567 \n",
      "\n",
      "Model:  F_mod_nadd_lin\n",
      "1 Bias:  4.655858061545212\n",
      "1 RMSE:  0.04384773084167265 \n",
      "\n",
      "Model:  G_mod_nadd_mod_nlin\n",
      "1 Bias:  2.032590286077631\n",
      "1 RMSE:  0.04310322815049054 \n",
      "\n"
     ]
    }
   ],
   "source": [
    "run_test_battery(\n",
    "    est=genmatch_est,\n",
    "    runs=250,\n",
    "    n_samples=1000,\n",
    "    from_files=True,\n",
    "    results_subfolder=\"NN/genmatch\",\n",
    "    genmatch_with_prop_scores=True,\n",
    "    nn_p_regression=True,\n",
    "    verbosity=2)"
   ]
  },
  {
   "cell_type": "markdown",
   "metadata": {},
   "source": [
    "### Regression + AE"
   ]
  },
  {
   "cell_type": "code",
   "execution_count": 35,
   "metadata": {
    "scrolled": true
   },
   "outputs": [
    {
     "name": "stdout",
     "output_type": "stream",
     "text": [
      "Results File: NN/genmatch_reconstruction/est_genmatch_est_runs_200_n_1000\n",
      "Displaying cached results.\n",
      "\n",
      "Results\n",
      "Model:  A_add_lin\n",
      "1 Bias:  0.529673171829923\n",
      "1 RMSE:  0.05386042530009443 \n",
      "\n",
      "Model:  B_add_mild_nlin\n",
      "1 Bias:  1.536696262108329\n",
      "1 RMSE:  0.05679903685019429 \n",
      "\n",
      "Model:  C_add_mod_nlin\n",
      "1 Bias:  0.08182277851303908\n",
      "1 RMSE:  0.06297264676850725 \n",
      "\n",
      "Model:  D_mild_nadd_lin\n",
      "1 Bias:  3.6659780883960047\n",
      "1 RMSE:  0.05920459006176178 \n",
      "\n",
      "Model:  E_mild_nadd_mild_nlin\n",
      "1 Bias:  4.789360578078707\n",
      "1 RMSE:  0.058677011907493345 \n",
      "\n",
      "Model:  F_mod_nadd_lin\n",
      "1 Bias:  0.5585211201953151\n",
      "1 RMSE:  0.05941723315251356 \n",
      "\n",
      "Model:  G_mod_nadd_mod_nlin\n",
      "1 Bias:  0.21314704713027943\n",
      "1 RMSE:  0.06181632295148564 \n",
      "\n"
     ]
    }
   ],
   "source": [
    "run_test_battery(\n",
    "    est=genmatch_est,\n",
    "    runs=reg_ae_runs,\n",
    "    n_samples=1000,\n",
    "    from_files=True,\n",
    "    loss_type=\"reconstruction\",\n",
    "    results_subfolder=\"NN/genmatch_reconstruction\",\n",
    "    genmatch_with_prop_scores=True,\n",
    "    nn_p_regression=True,\n",
    "    verbosity=2)"
   ]
  },
  {
   "cell_type": "code",
   "execution_count": 36,
   "metadata": {},
   "outputs": [
    {
     "name": "stdout",
     "output_type": "stream",
     "text": [
      "Results File: NN/genmatch_reconstruction_evalonoriginal/est_genmatch_est_runs_200_n_1000\n",
      "Displaying cached results.\n",
      "\n",
      "Results\n",
      "Model:  A_add_lin\n",
      "1 Bias:  0.05733422862098678\n",
      "1 RMSE:  0.04460639113827511 \n",
      "\n",
      "Model:  B_add_mild_nlin\n",
      "1 Bias:  0.3416270354118921\n",
      "1 RMSE:  0.04337636216599876 \n",
      "\n",
      "Model:  C_add_mod_nlin\n",
      "1 Bias:  0.17896723806440895\n",
      "1 RMSE:  0.055350444444338454 \n",
      "\n",
      "Model:  D_mild_nadd_lin\n",
      "1 Bias:  2.2316810121202617\n",
      "1 RMSE:  0.04387889187316208 \n",
      "\n",
      "Model:  E_mild_nadd_mild_nlin\n",
      "1 Bias:  3.344728110847269\n",
      "1 RMSE:  0.04439170278043582 \n",
      "\n",
      "Model:  F_mod_nadd_lin\n",
      "1 Bias:  0.23455257555113562\n",
      "1 RMSE:  0.04949492394802052 \n",
      "\n",
      "Model:  G_mod_nadd_mod_nlin\n",
      "1 Bias:  0.007101031185222269\n",
      "1 RMSE:  0.05363245105383774 \n",
      "\n"
     ]
    }
   ],
   "source": [
    "run_test_battery(\n",
    "    est=genmatch_est,\n",
    "    runs=reg_ae_runs,\n",
    "    n_samples=1000,\n",
    "    from_files=True,\n",
    "    loss_type=\"reconstruction\",\n",
    "    results_subfolder=\"NN/genmatch_reconstruction_evalonoriginal\",\n",
    "    genmatch_with_prop_scores=True,\n",
    "    nn_p_regression=True,\n",
    "    evaluate_on_original_covars=True,\n",
    "    verbosity=2)"
   ]
  },
  {
   "cell_type": "markdown",
   "metadata": {},
   "source": [
    "### Reconstruction + VAE"
   ]
  },
  {
   "cell_type": "code",
   "execution_count": 37,
   "metadata": {
    "scrolled": true
   },
   "outputs": [
    {
     "name": "stdout",
     "output_type": "stream",
     "text": [
      "Results File: NN/genmatch_vae/est_genmatch_est_runs_200_n_1000\n",
      "Displaying cached results.\n",
      "\n",
      "Results\n",
      "Model:  A_add_lin\n",
      "1 Bias:  1.8614017258002897\n",
      "1 RMSE:  0.046627158814633134 \n",
      "\n",
      "Model:  B_add_mild_nlin\n",
      "1 Bias:  1.0623641880990218\n",
      "1 RMSE:  0.04780889865562421 \n",
      "\n",
      "Model:  C_add_mod_nlin\n",
      "1 Bias:  1.1022105885256166\n",
      "1 RMSE:  0.05763152334980864 \n",
      "\n",
      "Model:  D_mild_nadd_lin\n",
      "1 Bias:  0.8832082725827941\n",
      "1 RMSE:  0.05134149227345619 \n",
      "\n",
      "Model:  E_mild_nadd_mild_nlin\n",
      "1 Bias:  1.180599024428345\n",
      "1 RMSE:  0.051764207766344696 \n",
      "\n",
      "Model:  F_mod_nadd_lin\n",
      "1 Bias:  3.371783090461461\n",
      "1 RMSE:  0.06068408190931019 \n",
      "\n",
      "Model:  G_mod_nadd_mod_nlin\n",
      "1 Bias:  0.6670186230576475\n",
      "1 RMSE:  0.05552969888840167 \n",
      "\n"
     ]
    }
   ],
   "source": [
    "run_test_battery(\n",
    "    est=genmatch_est,\n",
    "    runs=reg_ae_runs,\n",
    "    n_samples=1000,\n",
    "    from_files=True,\n",
    "    loss_type=\"vae\",\n",
    "    results_subfolder=\"NN/genmatch_vae\",\n",
    "    genmatch_with_prop_scores=True,\n",
    "    nn_p_regression=True,\n",
    "    verbosity=2)"
   ]
  },
  {
   "cell_type": "code",
   "execution_count": 38,
   "metadata": {},
   "outputs": [
    {
     "name": "stdout",
     "output_type": "stream",
     "text": [
      "Results File: NN/genmatch_vae_evaloriginal/est_genmatch_est_runs_200_n_1000\n",
      "Displaying cached results.\n",
      "\n",
      "Results\n",
      "Model:  A_add_lin\n",
      "1 Bias:  0.025656542980655707\n",
      "1 RMSE:  0.04467389196112116 \n",
      "\n",
      "Model:  B_add_mild_nlin\n",
      "1 Bias:  0.7731961580198056\n",
      "1 RMSE:  0.05205840412610209 \n",
      "\n",
      "Model:  C_add_mod_nlin\n",
      "1 Bias:  0.9092655458551755\n",
      "1 RMSE:  0.05781784981206415 \n",
      "\n",
      "Model:  D_mild_nadd_lin\n",
      "1 Bias:  3.038828666389273\n",
      "1 RMSE:  0.05245779974299758 \n",
      "\n",
      "Model:  E_mild_nadd_mild_nlin\n",
      "1 Bias:  2.872895222216922\n",
      "1 RMSE:  0.05685137200754044 \n",
      "\n",
      "Model:  F_mod_nadd_lin\n",
      "1 Bias:  1.2299437114421792\n",
      "1 RMSE:  0.05633433796082689 \n",
      "\n",
      "Model:  G_mod_nadd_mod_nlin\n",
      "1 Bias:  1.0446758178775761\n",
      "1 RMSE:  0.06328368505167929 \n",
      "\n"
     ]
    }
   ],
   "source": [
    "run_test_battery(\n",
    "    est=genmatch_est,\n",
    "    runs=reg_ae_runs,\n",
    "    n_samples=1000,\n",
    "    from_files=True,\n",
    "    loss_type=\"vae\",\n",
    "    results_subfolder=\"NN/genmatch_vae_evaloriginal\",\n",
    "    genmatch_with_prop_scores=True,\n",
    "    nn_p_regression=True,\n",
    "    evaluate_on_original_covars=True,\n",
    "    verbosity=2)"
   ]
  }
 ],
 "metadata": {
  "kernelspec": {
   "display_name": "Python 3 (Anaconda)",
   "language": "python",
   "name": "python3_anaconda"
  },
  "language_info": {
   "codemirror_mode": {
    "name": "ipython",
    "version": 3
   },
   "file_extension": ".py",
   "mimetype": "text/x-python",
   "name": "python",
   "nbconvert_exporter": "python",
   "pygments_lexer": "ipython3",
   "version": "3.6.5"
  },
  "varInspector": {
   "cols": {
    "lenName": 16,
    "lenType": 16,
    "lenVar": 40
   },
   "kernels_config": {
    "python": {
     "delete_cmd_postfix": "",
     "delete_cmd_prefix": "del ",
     "library": "var_list.py",
     "varRefreshCmd": "print(var_dic_list())"
    },
    "r": {
     "delete_cmd_postfix": ") ",
     "delete_cmd_prefix": "rm(",
     "library": "var_list.r",
     "varRefreshCmd": "cat(var_dic_list()) "
    }
   },
   "position": {
    "height": "433px",
    "left": "619px",
    "right": "20px",
    "top": "114px",
    "width": "451px"
   },
   "types_to_exclude": [
    "module",
    "function",
    "builtin_function_or_method",
    "instance",
    "_Feature"
   ],
   "window_display": false
  }
 },
 "nbformat": 4,
 "nbformat_minor": 2
}

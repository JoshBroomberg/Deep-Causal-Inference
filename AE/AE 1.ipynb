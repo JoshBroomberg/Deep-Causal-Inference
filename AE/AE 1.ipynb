{
 "cells": [
  {
   "cell_type": "code",
   "execution_count": 1,
   "metadata": {},
   "outputs": [],
   "source": [
    "import os\n",
    "import numpy as np \n",
    "\n",
    "import torch\n",
    "import torchvision\n",
    "from torch import nn\n",
    "from torch.autograd import Variable\n",
    "from torch.utils.data import DataLoader\n",
    "from torch.utils.data.dataset import Dataset\n",
    "\n",
    "from time import time\n",
    "\n",
    "cuda = torch.cuda.is_available()"
   ]
  },
  {
   "cell_type": "markdown",
   "metadata": {
    "heading_collapsed": true
   },
   "source": [
    "### Load Data"
   ]
  },
  {
   "cell_type": "code",
   "execution_count": 2,
   "metadata": {
    "hidden": true
   },
   "outputs": [],
   "source": [
    "RAW_DATA_DIR = \"../Data/Raw/\"\n",
    "PROCESSED_DATA_DIR = \"../Data/Processed/\"\n",
    "\n",
    "class CovariateDataset(Dataset):\n",
    "    def __init__(self, file_name_pattern, file_name_args):\n",
    "        self.file_name = file_name_pattern.format(*file_name_args)\n",
    "        self.data = np.loadtxt(RAW_DATA_DIR + self.file_name + \".csv\", delimiter=\",\")[:, 1:] # remove bias\n",
    "        \n",
    "    def __getitem__(self, index):\n",
    "        return (self.data[index].astype(float), 0)\n",
    "\n",
    "    def __len__(self):\n",
    "        return self.data.shape[0]\n",
    "    \n",
    "    def save_processed_data(self, data, loss):\n",
    "        name = PROCESSED_DATA_DIR + self.file_name+\"_{}.csv\".format(loss)\n",
    "        np.savetxt(name, data, delimiter=\",\")"
   ]
  },
  {
   "cell_type": "markdown",
   "metadata": {
    "heading_collapsed": true
   },
   "source": [
    "### Define Model"
   ]
  },
  {
   "cell_type": "code",
   "execution_count": 3,
   "metadata": {
    "hidden": true
   },
   "outputs": [],
   "source": [
    "class autoencoder(nn.Module):\n",
    "    def __init__(self):\n",
    "        super(autoencoder, self).__init__()\n",
    "        self.encoder = nn.Sequential(\n",
    "            nn.Linear(10, 128),\n",
    "            nn.ReLU(True),\n",
    "            nn.Linear(128, 4))\n",
    "        self.decoder = nn.Sequential(\n",
    "            nn.Linear(4, 128),\n",
    "            nn.ReLU(True),\n",
    "            nn.Linear(128, 10))\n",
    "\n",
    "    def forward(self, x):\n",
    "        encoded_values = self.encoder(x)\n",
    "        x = self.decoder(encoded_values)\n",
    "        return x, encoded_values"
   ]
  },
  {
   "cell_type": "markdown",
   "metadata": {},
   "source": [
    "### Train and Process Utils"
   ]
  },
  {
   "cell_type": "code",
   "execution_count": 4,
   "metadata": {},
   "outputs": [],
   "source": [
    "def reconstruction_sparsity_loss(output, target, encoded_values):\n",
    "        sparsity_scalar = Variable(torch.FloatTensor([0.0005]))\n",
    "        if cuda:\n",
    "            sparsity_scalar = sparsity_scalar.cuda()\n",
    "            \n",
    "        mse_loss = nn.MSELoss()\n",
    "        reconstruction_loss = mse_loss(output, target)\n",
    "        sparsity_loss = encoded_values.abs().sum()*sparsity_scalar\n",
    "        return reconstruction_loss + sparsity_loss \n",
    "    \n",
    "def reconstruction_loss(output, target, encoded_values):\n",
    "    mse_loss = nn.MSELoss()\n",
    "    reconstruction_loss = mse_loss(output, target)\n",
    "    return reconstruction_loss"
   ]
  },
  {
   "cell_type": "code",
   "execution_count": 5,
   "metadata": {
    "scrolled": true
   },
   "outputs": [],
   "source": [
    "loss_functions = [\"reconstruction\", \"sparsity\"]\n",
    "\n",
    "def train_model(model_class, dataset, dataset_number, loss=\"reconstruction\", verbose=True):\n",
    "    model = model_class()\n",
    "    if cuda:\n",
    "        model = model.cuda()\n",
    "\n",
    "    num_epochs = 10000\n",
    "    batch_size = 1000\n",
    "    learning_rate = 1e-1\n",
    "    lr_sched = True\n",
    "    \n",
    "    \n",
    "    if loss == loss_functions[0]:\n",
    "        criterion = reconstruction_loss\n",
    "    elif loss == loss_functions[1]:\n",
    "        criterion = reconstruction_sparsity_loss\n",
    "         \n",
    "    optimizer = torch.optim.Adam(\n",
    "        model.parameters(), lr=learning_rate, weight_decay=1e-5)\n",
    "\n",
    "    scheduler = torch.optim.lr_scheduler.MultiStepLR(optimizer, [2000, 5000], gamma=0.1)\n",
    "\n",
    "    dataloader = DataLoader(dataset, batch_size=batch_size, shuffle=True)\n",
    "    \n",
    "    final_loss = None\n",
    "    \n",
    "    for epoch in range(num_epochs):\n",
    "        if lr_sched:\n",
    "            scheduler.step()\n",
    "\n",
    "        for data in dataloader:\n",
    "            data_batch, _ = data\n",
    "            data_batch = Variable(data_batch)\n",
    "            data_batch = data_batch.float()\n",
    "\n",
    "            if cuda:\n",
    "                data_batch = data_batch.cuda()\n",
    "\n",
    "            # Forward pass\n",
    "            output, encoded_values = model(data_batch)\n",
    "\n",
    "            loss = criterion(output, data_batch, encoded_values)\n",
    "\n",
    "            # Backward pass\n",
    "            optimizer.zero_grad()\n",
    "            loss.backward()\n",
    "            optimizer.step()\n",
    "        # ===================log========================\n",
    "        if epoch%int(num_epochs/10) == int(num_epochs/10)-1 and verbose:\n",
    "            print('epoch [{}/{}], loss:{:.4f}'\n",
    "                  .format(epoch + 1, num_epochs, loss.data[0]))\n",
    "        \n",
    "        if epoch == (num_epochs-1):\n",
    "            final_loss = loss.data[0]\n",
    "            print(\"Final loss: loss:{:.4f}\".format(final_loss))\n",
    "\n",
    "    torch.save(model.state_dict(), \"../Models/simple_autoencoder_{}.pth\".format(dataset_number))\n",
    "    return model, final_loss\n",
    "\n",
    "def encode_data(model, dataset, loss):\n",
    "    all_data = torch.from_numpy(dataset.data)\n",
    "    all_data = Variable(all_data)\n",
    "    all_data = all_data.float()\n",
    "    \n",
    "    if cuda:\n",
    "        all_data = all_data.cuda()\n",
    "\n",
    "    output = model.encoder(all_data)\n",
    "    \n",
    "    if cuda:\n",
    "        output = output.cpu()\n",
    "        \n",
    "    dataset.save_processed_data(output.data.numpy(), loss)\n",
    "    return output.data.numpy()"
   ]
  },
  {
   "cell_type": "code",
   "execution_count": 6,
   "metadata": {},
   "outputs": [],
   "source": [
    "# dataset = CovariateDataset(\"n_{}_model_{}_v_{}_covar_data\", [1000, \"A_add_lin\", 1])\n",
    "# trained_model, final_loss = train_model(\n",
    "#                                     autoencoder,\n",
    "#                                     dataset,\n",
    "#                                     loss=\"sparsity\",\n",
    "#                                     verbose=True)\n",
    "# encode_data(trained_model, dataset, \"sparsity\")"
   ]
  },
  {
   "cell_type": "markdown",
   "metadata": {},
   "source": [
    "### Train and Encode"
   ]
  },
  {
   "cell_type": "code",
   "execution_count": 11,
   "metadata": {
    "scrolled": true
   },
   "outputs": [
    {
     "ename": "NameError",
     "evalue": "name 'args' is not defined",
     "output_type": "error",
     "traceback": [
      "\u001b[0;31m---------------------------------------------------------------------------\u001b[0m",
      "\u001b[0;31mNameError\u001b[0m                                 Traceback (most recent call last)",
      "\u001b[0;32m<ipython-input-11-5b03232e77eb>\u001b[0m in \u001b[0;36m<module>\u001b[0;34m()\u001b[0m\n\u001b[1;32m     42\u001b[0m \u001b[0;34m\u001b[0m\u001b[0m\n\u001b[1;32m     43\u001b[0m \u001b[0;34m\u001b[0m\u001b[0m\n\u001b[0;32m---> 44\u001b[0;31m \u001b[0mrun_for_range\u001b[0m\u001b[0;34m(\u001b[0m\u001b[0margs\u001b[0m\u001b[0;34m.\u001b[0m\u001b[0mstart_point\u001b[0m\u001b[0;34m,\u001b[0m \u001b[0margs\u001b[0m\u001b[0;34m.\u001b[0m\u001b[0mend_point\u001b[0m\u001b[0;34m)\u001b[0m\u001b[0;34m\u001b[0m\u001b[0m\n\u001b[0m",
      "\u001b[0;31mNameError\u001b[0m: name 'args' is not defined"
     ]
    }
   ],
   "source": [
    "def run_for_range(start, end):\n",
    "    models_to_rerun = []\n",
    "    datasets_to_process = range(start, end)\n",
    "    assignment_model_names = ['A_add_lin', 'B_add_mild_nlin', 'C_add_mod_nlin', 'D_mild_nadd_lin',\n",
    "                         'E_mild_nadd_mild_nlin', 'F_mod_nadd_lin', 'G_mod_nadd_mod_nlin']\n",
    "\n",
    "    for dataset_number in datasets_to_process:\n",
    "        print(\"Starting run for Dataset {}\".format(dataset_number))\n",
    "\n",
    "        for model_name in assignment_model_names:\n",
    "            print(\"-- Running for model name: \", model_name)\n",
    "\n",
    "            for loss_type in loss_functions:\n",
    "                print(\"---- Running for loss: \", loss_type)\n",
    "\n",
    "                start = time()\n",
    "\n",
    "                dataset = CovariateDataset(\"n_{}_model_{}_v_{}_covar_data\", [1000, model_name, dataset_number])\n",
    "                trained_model, final_loss = train_model(\n",
    "                                                    autoencoder,\n",
    "                                                    dataset,\n",
    "                                                    dataset_number,\n",
    "                                                    loss=loss_type,\n",
    "                                                    verbose=True)\n",
    "                encode_data(trained_model, dataset, loss=loss_type)\n",
    "\n",
    "                print(\"---- Done in \", time() - start, \" seconds\\n\")\n",
    "\n",
    "                # Catch bad runs\n",
    "                if loss_type == loss_functions[0] and final_loss > 0.30:\n",
    "                    models_to_rerun.append((model_name, dataset_number, loss_type))\n",
    "                elif loss_type == loss_functions[1] and final_loss > 1.0:\n",
    "                    models_to_rerun.append((model_name, dataset_number, loss_type))\n",
    "\n",
    "        print(\"================\\n\\n\")\n",
    "\n",
    "    print(\"Rerun: \", models_to_rerun)\n",
    "    return models_to_rerun\n",
    "\n",
    "\n",
    "# In[38]:\n",
    "\n",
    "\n",
    "run_for_range(args.start_point, args.end_point)"
   ]
  },
  {
   "cell_type": "code",
   "execution_count": 10,
   "metadata": {},
   "outputs": [
    {
     "data": {
      "text/plain": [
       "[('D_mild_nadd_lin', 53, 'reconstruction'),\n",
       " ('B_add_mild_nlin', 56, 'reconstruction'),\n",
       " ('D_mild_nadd_lin', 65, 'reconstruction'),\n",
       " ('A_add_lin', 70, 'reconstruction'),\n",
       " ('E_mild_nadd_mild_nlin', 72, 'reconstruction'),\n",
       " ('D_mild_nadd_lin', 76, 'reconstruction'),\n",
       " ('G_mod_nadd_mod_nlin', 79, 'reconstruction'),\n",
       " ('C_add_mod_nlin', 80, 'reconstruction'),\n",
       " ('E_mild_nadd_mild_nlin', 80, 'reconstruction'),\n",
       " ('D_mild_nadd_lin', 81, 'reconstruction'),\n",
       " ('C_add_mod_nlin', 82, 'reconstruction')]"
      ]
     },
     "execution_count": 10,
     "metadata": {},
     "output_type": "execute_result"
    }
   ],
   "source": [
    "models_to_rerun"
   ]
  },
  {
   "cell_type": "code",
   "execution_count": 8,
   "metadata": {
    "scrolled": true
   },
   "outputs": [
    {
     "name": "stdout",
     "output_type": "stream",
     "text": [
      "epoch [1000/10000], loss:0.4875\n",
      "epoch [2000/10000], loss:0.4456\n",
      "epoch [3000/10000], loss:0.4104\n",
      "epoch [4000/10000], loss:0.3195\n",
      "epoch [5000/10000], loss:0.3145\n",
      "epoch [6000/10000], loss:0.3127\n",
      "epoch [7000/10000], loss:0.3118\n",
      "epoch [8000/10000], loss:0.3107\n",
      "epoch [9000/10000], loss:0.3096\n",
      "epoch [10000/10000], loss:0.3084\n",
      "Final loss: loss:0.3084\n",
      "epoch [1000/10000], loss:0.5869\n",
      "epoch [2000/10000], loss:0.5415\n",
      "epoch [3000/10000], loss:0.5173\n",
      "epoch [4000/10000], loss:0.4197\n",
      "epoch [5000/10000], loss:0.4216\n",
      "epoch [6000/10000], loss:0.4136\n",
      "epoch [7000/10000], loss:0.4132\n",
      "epoch [8000/10000], loss:0.4127\n",
      "epoch [9000/10000], loss:0.4123\n",
      "epoch [10000/10000], loss:0.4118\n",
      "Final loss: loss:0.4118\n"
     ]
    }
   ],
   "source": [
    "# models_to_rerun = [('A_add_lin', 12, 'sparsity'), ('G_mod_nadd_mod_nlin', 40, 'sparsity')]\n",
    "\n",
    "for model_name, dataset_number, loss_type in models_to_rerun:\n",
    "    dataset = CovariateDataset(\"n_{}_model_{}_v_{}_covar_data\", [1000, model_name, dataset_number])\n",
    "    trained_model, final_loss = train_model(\n",
    "                                        autoencoder,\n",
    "                                        dataset,\n",
    "                                        loss=loss_type,\n",
    "                                        verbose=True)\n",
    "    encode_data(trained_model, dataset, loss=loss_type)"
   ]
  }
 ],
 "metadata": {
  "kernelspec": {
   "display_name": "Python 3",
   "language": "python",
   "name": "python3"
  },
  "varInspector": {
   "cols": {
    "lenName": 16,
    "lenType": 16,
    "lenVar": 40
   },
   "kernels_config": {
    "python": {
     "delete_cmd_postfix": "",
     "delete_cmd_prefix": "del ",
     "library": "var_list.py",
     "varRefreshCmd": "print(var_dic_list())"
    },
    "r": {
     "delete_cmd_postfix": ") ",
     "delete_cmd_prefix": "rm(",
     "library": "var_list.r",
     "varRefreshCmd": "cat(var_dic_list()) "
    }
   },
   "types_to_exclude": [
    "module",
    "function",
    "builtin_function_or_method",
    "instance",
    "_Feature"
   ],
   "window_display": false
  }
 },
 "nbformat": 4,
 "nbformat_minor": 2
}

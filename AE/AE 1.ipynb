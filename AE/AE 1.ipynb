{
 "cells": [
  {
   "cell_type": "code",
   "execution_count": 3,
   "metadata": {},
   "outputs": [],
   "source": [
    "import os\n",
    "import numpy as np \n",
    "\n",
    "import torch\n",
    "import torchvision\n",
    "from torch import nn\n",
    "from torch.autograd import Variable\n",
    "from torch.utils.data import DataLoader\n",
    "from torch.utils.data.dataset import Dataset\n",
    "\n",
    "cuda = torch.cuda.is_available()"
   ]
  },
  {
   "cell_type": "markdown",
   "metadata": {},
   "source": [
    "### Load Data"
   ]
  },
  {
   "cell_type": "code",
   "execution_count": 31,
   "metadata": {},
   "outputs": [],
   "source": [
    "RAW_DATA_DIR = \"../Data/Raw/\"\n",
    "PROCESSED_DATA_DIR = \"../Data/Processed/\"\n",
    "\n",
    "class CovariateDataset(Dataset):\n",
    "    def __init__(self, file_name_pattern, file_name_args):\n",
    "        self.file_name = file_name_pattern.format(*file_name_args)\n",
    "        self.data = np.loadtxt(RAW_DATA_DIR + self.file_name, delimiter=\",\")[:, 1:] # remove bias\n",
    "        \n",
    "    def __getitem__(self, index):\n",
    "        return (self.data[index].astype(float), 0)\n",
    "\n",
    "    def __len__(self):\n",
    "        return self.data.shape[0]\n",
    "    \n",
    "    def save_processed_data(self, data):\n",
    "        np.savetxt(PROCESSED_DATA_DIR + self.file_name, data, delimiter=\",\")"
   ]
  },
  {
   "cell_type": "markdown",
   "metadata": {},
   "source": [
    "### Define Model"
   ]
  },
  {
   "cell_type": "code",
   "execution_count": 17,
   "metadata": {},
   "outputs": [],
   "source": [
    "class autoencoder(nn.Module):\n",
    "    def __init__(self):\n",
    "        super(autoencoder, self).__init__()\n",
    "        self.encoder = nn.Sequential(\n",
    "            nn.Linear(10, 128),\n",
    "            nn.ReLU(True),\n",
    "            nn.Linear(128, 4))\n",
    "        self.decoder = nn.Sequential(\n",
    "            nn.Linear(4, 128),\n",
    "            nn.ReLU(True),\n",
    "            nn.Linear(128, 10))\n",
    "\n",
    "    def forward(self, x):\n",
    "        encoded_values = self.encoder(x)\n",
    "        x = self.decoder(encoded_values)\n",
    "        return x, encoded_values"
   ]
  },
  {
   "cell_type": "markdown",
   "metadata": {},
   "source": [
    "### Train and Process Utils"
   ]
  },
  {
   "cell_type": "code",
   "execution_count": 33,
   "metadata": {},
   "outputs": [],
   "source": [
    "def reconstruction_sparsity_loss(output, target, encoded_values):\n",
    "        sparsity_scalar = Variable(torch.FloatTensor([0.1]))\n",
    "        if cuda:\n",
    "            sparsity_scalar = sparsity_scalar.cuda()\n",
    "            \n",
    "        mse_loss = nn.MSELoss()\n",
    "        reconstruction_loss = mse_loss(output, target)\n",
    "        sparsity_loss = encoded_values.abs().sum()*sparsity_scalar\n",
    "        return reconstruction_loss + sparsity_loss \n",
    "    \n",
    "def reconstruction_loss(output, target, encoded_values):\n",
    "    mse_loss = nn.MSELoss()\n",
    "    reconstruction_loss = mse_loss(output, target)\n",
    "    return reconstruction_loss"
   ]
  },
  {
   "cell_type": "code",
   "execution_count": 37,
   "metadata": {
    "scrolled": true
   },
   "outputs": [],
   "source": [
    "def train_model(model_class, dataset, loss=\"reconstruction\", verbose=True):\n",
    "    model = model_class()\n",
    "    if cuda:\n",
    "        model = model.cuda()\n",
    "\n",
    "    num_epochs = 15000\n",
    "    batch_size = 1000\n",
    "    learning_rate = 1e-1\n",
    "    lr_sched = True\n",
    "    \n",
    "    \n",
    "    if loss == \"reconstruction\":\n",
    "        criterion = reconstruction_loss\n",
    "    elif loss == \"sparsity\":\n",
    "        criterion = reconstruction_sparsity_loss\n",
    "         \n",
    "    optimizer = torch.optim.Adam(\n",
    "        model.parameters(), lr=learning_rate, weight_decay=1e-5)\n",
    "\n",
    "    scheduler = torch.optim.lr_scheduler.MultiStepLR(optimizer, [2000, 5000], gamma=0.1)\n",
    "\n",
    "    dataloader = DataLoader(dataset, batch_size=batch_size, shuffle=True)\n",
    "\n",
    "    for epoch in range(num_epochs):\n",
    "        if lr_sched:\n",
    "            scheduler.step()\n",
    "\n",
    "        for data in dataloader:\n",
    "            data_batch, _ = data\n",
    "            data_batch = Variable(data_batch)\n",
    "            data_batch = data_batch.float()\n",
    "\n",
    "            if cuda:\n",
    "                data_batch = data_batch.cuda()\n",
    "\n",
    "            # Forward pass\n",
    "            output, encoded_values = model(data_batch)\n",
    "\n",
    "            loss = criterion(output, data_batch, encoded_values)\n",
    "\n",
    "            # Backward pass\n",
    "            optimizer.zero_grad()\n",
    "            loss.backward()\n",
    "            optimizer.step()\n",
    "        # ===================log========================\n",
    "        if epoch%int(num_epochs/10) == int(num_epochs/10)-1 and verbose:\n",
    "            print('epoch [{}/{}], loss:{:.4f}'\n",
    "                  .format(epoch + 1, num_epochs, loss.data[0]))\n",
    "\n",
    "    torch.save(model.state_dict(), \"../Models/simple_autoencoder_{}.pth\".format(dataset_number))\n",
    "    return model\n",
    "\n",
    "def encode_data(model, dataset):\n",
    "    all_data = torch.from_numpy(dataset.data)\n",
    "    all_data = Variable(all_data)\n",
    "    all_data = all_data.float()\n",
    "    \n",
    "    if cuda:\n",
    "        all_data = all_data.cuda()\n",
    "\n",
    "    output = model.encoder(all_data)\n",
    "    \n",
    "    if cuda:\n",
    "        output = output.cpu()\n",
    "        \n",
    "    dataset.save_processed_data(output.data.numpy())"
   ]
  },
  {
   "cell_type": "code",
   "execution_count": null,
   "metadata": {},
   "outputs": [
    {
     "name": "stdout",
     "output_type": "stream",
     "text": [
      "Starting run for Dataset 0\n",
      "Running for model name:  A_add_lin\n"
     ]
    }
   ],
   "source": [
    "assignment_model_names = ['A_add_lin', 'B_add_mild_nlin', 'C_add_mod_nlin', 'D_mild_nadd_lin',\n",
    "                     'E_mild_nadd_mild_nlin', 'F_mod_nadd_lin', 'G_mod_nadd_mod_nlin']\n",
    "num_datasets_to_process = 100\n",
    "\n",
    "for dataset_number in range(num_datasets_to_process):\n",
    "    print(\"Starting run for Dataset {}\".format(dataset_number))\n",
    "    for model_name in assignment_model_names[:1]:\n",
    "        print(\"Running for model name: \", model_name)\n",
    "        dataset = CovariateDataset(\"n_{}_model_{}_v_{}_covar_data.csv\", [1000, model_name, dataset_number])\n",
    "        trained_model = train_model(autoencoder, dataset, verbose=False)\n",
    "        encode_data(trained_model, dataset)\n",
    "    print(\"================\\n\\n\")"
   ]
  }
 ],
 "metadata": {
  "kernelspec": {
   "display_name": "Python 3",
   "language": "python",
   "name": "python3"
  },
  "language_info": {
   "codemirror_mode": {
    "name": "ipython",
    "version": 3
   },
   "file_extension": ".py",
   "mimetype": "text/x-python",
   "name": "python",
   "nbconvert_exporter": "python",
   "pygments_lexer": "ipython3",
   "version": "3.6.3"
  },
  "varInspector": {
   "cols": {
    "lenName": 16,
    "lenType": 16,
    "lenVar": 40
   },
   "kernels_config": {
    "python": {
     "delete_cmd_postfix": "",
     "delete_cmd_prefix": "del ",
     "library": "var_list.py",
     "varRefreshCmd": "print(var_dic_list())"
    },
    "r": {
     "delete_cmd_postfix": ") ",
     "delete_cmd_prefix": "rm(",
     "library": "var_list.r",
     "varRefreshCmd": "cat(var_dic_list()) "
    }
   },
   "types_to_exclude": [
    "module",
    "function",
    "builtin_function_or_method",
    "instance",
    "_Feature"
   ],
   "window_display": false
  }
 },
 "nbformat": 4,
 "nbformat_minor": 2
}

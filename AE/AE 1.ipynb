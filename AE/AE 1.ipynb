{
 "cells": [
  {
   "cell_type": "code",
   "execution_count": 1,
   "metadata": {},
   "outputs": [],
   "source": [
    "import os\n",
    "import numpy as np \n",
    "\n",
    "import torch\n",
    "import torchvision\n",
    "from torch import nn\n",
    "from torch.autograd import Variable\n",
    "from torch.utils.data import DataLoader\n",
    "from torch.utils.data.dataset import Dataset\n",
    "\n",
    "cuda = False"
   ]
  },
  {
   "cell_type": "markdown",
   "metadata": {},
   "source": [
    "### Load Data"
   ]
  },
  {
   "cell_type": "code",
   "execution_count": 36,
   "metadata": {},
   "outputs": [],
   "source": [
    "RAW_DATA_DIR = \"../Data/Raw/\"\n",
    "PROCESSED_DATA_DIR = \"../Data/Processed/\"\n",
    "\n",
    "class CovariateDataset(Dataset):\n",
    "    def __init__(self, file_name_pattern, file_number):\n",
    "        self.file_name = file_name_pattern.format(file_number)\n",
    "        self.data = np.loadtxt(RAW_DATA_DIR + self.file_name, delimiter=\",\")[:, 1:] # remove bias\n",
    "        \n",
    "    def __getitem__(self, index):\n",
    "        return (self.data[index].astype(float), 0)\n",
    "\n",
    "    def __len__(self):\n",
    "        return self.data.shape[0]\n",
    "    \n",
    "    def save_processed_data(self, data):\n",
    "        np.savetxt(PROCESSED_DATA_DIR + self.file_name, data, delimiter=\",\")"
   ]
  },
  {
   "cell_type": "markdown",
   "metadata": {},
   "source": [
    "### Define Model"
   ]
  },
  {
   "cell_type": "code",
   "execution_count": 33,
   "metadata": {},
   "outputs": [],
   "source": [
    "class autoencoder(nn.Module):\n",
    "    def __init__(self):\n",
    "        super(autoencoder, self).__init__()\n",
    "        self.encoder = nn.Sequential(\n",
    "            nn.Linear(11, 128),\n",
    "            nn.ReLU(True),\n",
    "            nn.Linear(128, 4))\n",
    "        self.decoder = nn.Sequential(\n",
    "            nn.Linear(4, 128),\n",
    "            nn.ReLU(True),\n",
    "            nn.Linear(128, 11))\n",
    "\n",
    "    def forward(self, x):\n",
    "        x = self.encoder(x)\n",
    "        x = self.decoder(x)\n",
    "        return x"
   ]
  },
  {
   "cell_type": "markdown",
   "metadata": {},
   "source": [
    "### Train and Process Utils"
   ]
  },
  {
   "cell_type": "code",
   "execution_count": 34,
   "metadata": {
    "scrolled": true
   },
   "outputs": [],
   "source": [
    "def train_model(model_class, dataset):\n",
    "    model = model_class()\n",
    "    if cuda:\n",
    "        model = model.cuda()\n",
    "\n",
    "    num_epochs = 20000\n",
    "    batch_size = 1000\n",
    "    learning_rate = 1e-1\n",
    "    lr_sched = True\n",
    "\n",
    "    criterion = nn.MSELoss()\n",
    "    optimizer = torch.optim.Adam(\n",
    "        model.parameters(), lr=learning_rate, weight_decay=1e-5)\n",
    "\n",
    "    scheduler = torch.optim.lr_scheduler.MultiStepLR(optimizer, [2000, 5000], gamma=0.1)\n",
    "\n",
    "    dataloader = DataLoader(dataset, batch_size=batch_size, shuffle=True)\n",
    "\n",
    "    for epoch in range(num_epochs):\n",
    "        if lr_sched:\n",
    "            scheduler.step()\n",
    "\n",
    "        for data in dataloader:\n",
    "            data_batch, _ = data\n",
    "            data_batch = Variable(data_batch)\n",
    "            data_batch = data_batch.float()\n",
    "\n",
    "            if cuda:\n",
    "                data_batch = data_batch.cuda()\n",
    "\n",
    "            # Forward pass\n",
    "            output = model(data_batch)\n",
    "\n",
    "            loss = criterion(output, data_batch)\n",
    "\n",
    "            # Backward pass\n",
    "            optimizer.zero_grad()\n",
    "            loss.backward()\n",
    "            optimizer.step()\n",
    "        # ===================log========================\n",
    "        if epoch%int(num_epochs/10) == int(num_epochs/10)-1:\n",
    "            print('epoch [{}/{}], loss:{:.4f}'\n",
    "                  .format(epoch + 1, num_epochs, loss.data[0]))\n",
    "\n",
    "    torch.save(model.state_dict(), \"../Models/simple_autoencoder_{}.pth\".format(dataset_number))\n",
    "    return model\n",
    "\n",
    "def encode_data(model, dataset):\n",
    "    all_data = torch.from_numpy(dataset.data)\n",
    "    all_data = Variable(all_data)\n",
    "    all_data = all_data.float()\n",
    "    if cuda:\n",
    "        all_data = all_data.cuda()\n",
    "\n",
    "    output = model.encoder(all_data)\n",
    "    dataset.save_processed_data(output.data.numpy())"
   ]
  },
  {
   "cell_type": "code",
   "execution_count": 35,
   "metadata": {},
   "outputs": [
    {
     "name": "stdout",
     "output_type": "stream",
     "text": [
      "Starting run for Dataset 0\n",
      "epoch [2000/20000], loss:0.1650\n",
      "epoch [4000/20000], loss:0.1396\n",
      "epoch [6000/20000], loss:0.1359\n",
      "epoch [8000/20000], loss:0.1349\n",
      "epoch [10000/20000], loss:0.1329\n",
      "epoch [12000/20000], loss:0.1300\n",
      "epoch [14000/20000], loss:0.1264\n",
      "epoch [16000/20000], loss:0.1211\n",
      "epoch [18000/20000], loss:0.1169\n",
      "epoch [20000/20000], loss:0.1145\n",
      "================\n",
      "\n",
      "\n"
     ]
    }
   ],
   "source": [
    "num_datasets_to_process = 1\n",
    "\n",
    "for dataset_number in range(num_datasets_to_process):\n",
    "    print(\"Starting run for Dataset {}\".format(dataset_number))\n",
    "    dataset = CovariateDataset(\"n_1000_model_A_add_lin_v_{}_covar_data.csv\", dataset_number)\n",
    "    trained_model = train_model(autoencoder, dataset)\n",
    "    encode_data(trained_model, dataset)\n",
    "    print(\"================\\n\\n\")"
   ]
  }
 ],
 "metadata": {
  "kernelspec": {
   "display_name": "Python 3",
   "language": "python",
   "name": "python3"
  },
  "language_info": {
   "codemirror_mode": {
    "name": "ipython",
    "version": 3
   },
   "file_extension": ".py",
   "mimetype": "text/x-python",
   "name": "python",
   "nbconvert_exporter": "python",
   "pygments_lexer": "ipython3",
   "version": "3.6.5"
  },
  "varInspector": {
   "cols": {
    "lenName": 16,
    "lenType": 16,
    "lenVar": 40
   },
   "kernels_config": {
    "python": {
     "delete_cmd_postfix": "",
     "delete_cmd_prefix": "del ",
     "library": "var_list.py",
     "varRefreshCmd": "print(var_dic_list())"
    },
    "r": {
     "delete_cmd_postfix": ") ",
     "delete_cmd_prefix": "rm(",
     "library": "var_list.r",
     "varRefreshCmd": "cat(var_dic_list()) "
    }
   },
   "types_to_exclude": [
    "module",
    "function",
    "builtin_function_or_method",
    "instance",
    "_Feature"
   ],
   "window_display": false
  }
 },
 "nbformat": 4,
 "nbformat_minor": 2
}
